{
 "cells": [
  {
   "cell_type": "markdown",
   "metadata": {},
   "source": [
    "# SC09 speech keyword detection benchmark model using the Time-Frequency TiFGAN features as input"
   ]
  },
  {
   "cell_type": "markdown",
   "metadata": {},
   "source": [
    "In this notebook, we will train different classifiers on keyword detection on the SC09 (Speech commands from 0 to 9) dataset using the time-frequency features which are also used as an input to a TiFGAN."
   ]
  },
  {
   "cell_type": "markdown",
   "metadata": {},
   "source": [
    "### Import packages"
   ]
  },
  {
   "cell_type": "code",
   "execution_count": 1,
   "metadata": {},
   "outputs": [],
   "source": [
    "import os\n",
    "\n",
    "import numpy as np\n",
    "from sklearn.linear_model import LogisticRegression\n",
    "from sklearn.ensemble import RandomForestClassifier\n",
    "from sklearn.neural_network import MLPClassifier\n",
    "from sklearn.metrics import plot_confusion_matrix, classification_report, accuracy_score, balanced_accuracy_score, f1_score, precision_score, recall_score"
   ]
  },
  {
   "cell_type": "markdown",
   "metadata": {},
   "source": [
    "### Define paths"
   ]
  },
  {
   "cell_type": "code",
   "execution_count": 2,
   "metadata": {},
   "outputs": [],
   "source": [
    "data_dir = os.path.join(\"/media\", \"datastore\", \"c-matsty-data\", \"datasets\", \"SpeechCommands\")"
   ]
  },
  {
   "cell_type": "markdown",
   "metadata": {},
   "source": [
    "#### Training data paths"
   ]
  },
  {
   "cell_type": "code",
   "execution_count": 3,
   "metadata": {},
   "outputs": [],
   "source": [
    "train_dir = os.path.join(data_dir, \"SpeechCommands_Preproc_2_training\")\n",
    "train_input_path = os.path.join(train_dir, \"input_data\")\n",
    "train_labels_path = os.path.join(train_dir, \"labels\")\n",
    "train_actors_path = os.path.join(train_dir, \"actors\")"
   ]
  },
  {
   "cell_type": "markdown",
   "metadata": {},
   "source": [
    "#### Test data paths"
   ]
  },
  {
   "cell_type": "code",
   "execution_count": 4,
   "metadata": {},
   "outputs": [],
   "source": [
    "test_dir = os.path.join(data_dir, \"SpeechCommands_Preproc_2_test\")\n",
    "test_input_path = os.path.join(test_dir, \"input_data\")\n",
    "test_labels_path = os.path.join(test_dir, \"labels\")\n",
    "test_actors_path = os.path.join(test_dir, \"actors\")"
   ]
  },
  {
   "cell_type": "markdown",
   "metadata": {},
   "source": [
    "### Load data"
   ]
  },
  {
   "cell_type": "code",
   "execution_count": 5,
   "metadata": {},
   "outputs": [],
   "source": [
    "def load_data(input_path, labels_path, actors_path):\n",
    "    X = []\n",
    "    Y = []\n",
    "    A = []\n",
    "    files = sorted(os.listdir(input_path))\n",
    "    for input_file_name in os.listdir(input_path):\n",
    "        file_name = input_file_name.split(\".\")[0]\n",
    "        x = np.load(os.path.join(input_path, input_file_name))[\"logspecs\"]\n",
    "        y = np.load(os.path.join(labels_path, file_name + \"_labels.npy\"))[..., np.newaxis]\n",
    "        actors = np.load(os.path.join(actors_path, file_name + \"_actors.npy\"))[..., np.newaxis]\n",
    "        X.append(x)\n",
    "        Y.append(y)\n",
    "        A.append(actors)\n",
    "    X = np.vstack(X)\n",
    "    Y = np.vstack(Y)\n",
    "    A = np.vstack(A)\n",
    "    return X, Y, A"
   ]
  },
  {
   "cell_type": "markdown",
   "metadata": {},
   "source": [
    "###### Load training data"
   ]
  },
  {
   "cell_type": "code",
   "execution_count": 6,
   "metadata": {},
   "outputs": [],
   "source": [
    "X_tr, y_tr, actors_tr = load_data(train_input_path, train_labels_path, train_actors_path)"
   ]
  },
  {
   "cell_type": "markdown",
   "metadata": {},
   "source": [
    "###### Load test data"
   ]
  },
  {
   "cell_type": "code",
   "execution_count": 7,
   "metadata": {},
   "outputs": [],
   "source": [
    "X_ts, y_ts, actors_ts = load_data(test_input_path, test_labels_path, test_actors_path)"
   ]
  },
  {
   "cell_type": "code",
   "execution_count": 8,
   "metadata": {},
   "outputs": [],
   "source": [
    "label_dict = {value: index  for index, value in enumerate(np.unique(y_tr))}"
   ]
  },
  {
   "cell_type": "markdown",
   "metadata": {},
   "source": [
    "### Prepare data for training"
   ]
  },
  {
   "cell_type": "markdown",
   "metadata": {},
   "source": [
    "#### Turn labels from strings to integer identifiers"
   ]
  },
  {
   "cell_type": "code",
   "execution_count": 9,
   "metadata": {},
   "outputs": [],
   "source": [
    "y_tr = np.vectorize(label_dict.get)(y_tr)\n",
    "y_ts = np.vectorize(label_dict.get)(y_ts)"
   ]
  },
  {
   "cell_type": "markdown",
   "metadata": {},
   "source": [
    "#### Reshape input arrays and labels"
   ]
  },
  {
   "cell_type": "code",
   "execution_count": 10,
   "metadata": {},
   "outputs": [],
   "source": [
    "X_tr = X_tr.reshape((X_tr.shape[0], X_tr.shape[1] * X_tr.shape[2]))\n",
    "X_ts = X_ts.reshape((X_ts.shape[0], X_ts.shape[1] * X_ts.shape[2]))"
   ]
  },
  {
   "cell_type": "code",
   "execution_count": 11,
   "metadata": {},
   "outputs": [],
   "source": [
    "y_tr = y_tr.flatten()\n",
    "y_ts = y_ts.flatten()"
   ]
  },
  {
   "cell_type": "markdown",
   "metadata": {},
   "source": [
    "### Normalize data"
   ]
  },
  {
   "cell_type": "code",
   "execution_count": 12,
   "metadata": {},
   "outputs": [],
   "source": [
    "mean = X_tr.mean()\n",
    "std = X_tr.std()\n",
    "X_tr = (X_tr - mean) / std \n",
    "X_ts = (X_ts - mean) / std"
   ]
  },
  {
   "cell_type": "markdown",
   "metadata": {},
   "source": [
    "### Define sample weights"
   ]
  },
  {
   "cell_type": "code",
   "execution_count": 13,
   "metadata": {},
   "outputs": [],
   "source": [
    "class_counts = [len(y_tr[y_tr == i]) for i in label_dict.values()]\n",
    "class_weights = [max(class_counts)/class_count for class_count in class_counts]\n",
    "class_weight_dict = {class_idx: class_weight for class_idx, class_weight in zip(label_dict.values(), class_weights)}"
   ]
  },
  {
   "cell_type": "code",
   "execution_count": 14,
   "metadata": {},
   "outputs": [
    {
     "data": {
      "text/plain": [
       "{'eight': 0,\n",
       " 'five': 1,\n",
       " 'four': 2,\n",
       " 'nine': 3,\n",
       " 'one': 4,\n",
       " 'seven': 5,\n",
       " 'six': 6,\n",
       " 'three': 7,\n",
       " 'two': 8,\n",
       " 'zero': 9}"
      ]
     },
     "execution_count": 14,
     "metadata": {},
     "output_type": "execute_result"
    }
   ],
   "source": [
    "label_dict"
   ]
  },
  {
   "cell_type": "markdown",
   "metadata": {},
   "source": [
    "### Train and test logistic regression classifier"
   ]
  },
  {
   "cell_type": "code",
   "execution_count": 15,
   "metadata": {},
   "outputs": [],
   "source": [
    "multi_class = 'multinomial'\n",
    "model = LogisticRegression(multi_class=multi_class, max_iter=15000, random_state=0)"
   ]
  },
  {
   "cell_type": "code",
   "execution_count": 16,
   "metadata": {},
   "outputs": [],
   "source": [
    "sample_weight = [class_weight_dict[label] for label in y_tr]"
   ]
  },
  {
   "cell_type": "code",
   "execution_count": 17,
   "metadata": {},
   "outputs": [],
   "source": [
    "model = model.fit(X_tr, y_tr, sample_weight=sample_weight)"
   ]
  },
  {
   "cell_type": "code",
   "execution_count": 18,
   "metadata": {},
   "outputs": [
    {
     "name": "stdout",
     "output_type": "stream",
     "text": [
      "              precision    recall  f1-score   support\n",
      "\n",
      "           0       0.44      0.50      0.47       257\n",
      "           1       0.52      0.53      0.52       270\n",
      "           2       0.65      0.55      0.59       253\n",
      "           3       0.50      0.49      0.50       259\n",
      "           4       0.49      0.50      0.49       248\n",
      "           5       0.53      0.61      0.57       239\n",
      "           6       0.75      0.66      0.70       244\n",
      "           7       0.49      0.46      0.48       267\n",
      "           8       0.52      0.50      0.51       264\n",
      "           9       0.61      0.63      0.62       250\n",
      "\n",
      "    accuracy                           0.54      2551\n",
      "   macro avg       0.55      0.54      0.55      2551\n",
      "weighted avg       0.55      0.54      0.54      2551\n",
      "\n",
      "0.5438286657138892\n"
     ]
    }
   ],
   "source": [
    "y_preds_lg = model.predict(X_ts)\n",
    "print(classification_report(y_ts, y_preds_lg))\n",
    "print(balanced_accuracy_score(y_ts, y_preds_lg))"
   ]
  },
  {
   "cell_type": "markdown",
   "metadata": {},
   "source": [
    "### Train and test RandomForest classifier"
   ]
  },
  {
   "cell_type": "code",
   "execution_count": 19,
   "metadata": {},
   "outputs": [],
   "source": [
    "model = RandomForestClassifier(n_estimators=400, random_state=0)"
   ]
  },
  {
   "cell_type": "code",
   "execution_count": 20,
   "metadata": {},
   "outputs": [],
   "source": [
    "model = model.fit(X_tr, y_tr, sample_weight=sample_weight)"
   ]
  },
  {
   "cell_type": "code",
   "execution_count": 21,
   "metadata": {},
   "outputs": [
    {
     "name": "stdout",
     "output_type": "stream",
     "text": [
      "              precision    recall  f1-score   support\n",
      "\n",
      "           0       0.77      0.84      0.80       257\n",
      "           1       0.82      0.80      0.81       270\n",
      "           2       0.74      0.79      0.76       253\n",
      "           3       0.78      0.84      0.81       259\n",
      "           4       0.78      0.81      0.80       248\n",
      "           5       0.92      0.82      0.87       239\n",
      "           6       0.90      0.83      0.86       244\n",
      "           7       0.83      0.78      0.81       267\n",
      "           8       0.74      0.77      0.75       264\n",
      "           9       0.85      0.80      0.83       250\n",
      "\n",
      "    accuracy                           0.81      2551\n",
      "   macro avg       0.81      0.81      0.81      2551\n",
      "weighted avg       0.81      0.81      0.81      2551\n",
      "\n",
      "0.8087174901113162\n"
     ]
    }
   ],
   "source": [
    "y_preds_rf = model.predict(X_ts)\n",
    "print(classification_report(y_ts, y_preds_rf))\n",
    "print(balanced_accuracy_score(y_ts, y_preds_rf))"
   ]
  }
 ],
 "metadata": {
  "kernelspec": {
   "display_name": "Python 3",
   "language": "python",
   "name": "python3"
  },
  "language_info": {
   "codemirror_mode": {
    "name": "ipython",
    "version": 3
   },
   "file_extension": ".py",
   "mimetype": "text/x-python",
   "name": "python",
   "nbconvert_exporter": "python",
   "pygments_lexer": "ipython3",
   "version": "3.7.4"
  }
 },
 "nbformat": 4,
 "nbformat_minor": 2
}
