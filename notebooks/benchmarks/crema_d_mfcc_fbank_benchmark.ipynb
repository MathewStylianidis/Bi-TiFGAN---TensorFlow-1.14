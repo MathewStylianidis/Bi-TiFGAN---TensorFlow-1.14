{
 "cells": [
  {
   "cell_type": "markdown",
   "metadata": {},
   "source": [
    "# CREMA-D Emotion Recognition benchmark model using MFCC/FBANK features"
   ]
  },
  {
   "cell_type": "markdown",
   "metadata": {},
   "source": [
    "In this notebook, we will train different classifiers on ER on the CREMA-D dataset using MFCC/FBANK features.\n",
    "\n",
    "Moreover, we provide the performance that can acquired by classifying samples by chance."
   ]
  },
  {
   "cell_type": "markdown",
   "metadata": {},
   "source": [
    "### Import packages"
   ]
  },
  {
   "cell_type": "code",
   "execution_count": 12,
   "metadata": {},
   "outputs": [],
   "source": [
    "import os\n",
    "\n",
    "import numpy as np\n",
    "from sklearn.linear_model import LogisticRegression\n",
    "from sklearn.ensemble import RandomForestClassifier\n",
    "from sklearn.neural_network import MLPClassifier\n",
    "from sklearn.metrics import plot_confusion_matrix, classification_report, balanced_accuracy_score, f1_score, precision_score, recall_score"
   ]
  },
  {
   "cell_type": "markdown",
   "metadata": {},
   "source": [
    "### Define paths"
   ]
  },
  {
   "cell_type": "code",
   "execution_count": 13,
   "metadata": {},
   "outputs": [],
   "source": [
    "data_dir = os.path.join(\"/media\", \"datastore\", \"c-matsty-data\", \"datasets\", \"CREMA-D\")"
   ]
  },
  {
   "cell_type": "markdown",
   "metadata": {},
   "source": [
    "#### Training data paths"
   ]
  },
  {
   "cell_type": "code",
   "execution_count": 14,
   "metadata": {},
   "outputs": [],
   "source": [
    "mfcc_train_dir = os.path.join(data_dir, \"CREMA-D_Preproc_1_training_MFCC\")\n",
    "mfcc_train_input_path = os.path.join(mfcc_train_dir, \"input_data\")\n",
    "mfcc_train_labels_path = os.path.join(mfcc_train_dir, \"labels\")\n",
    "mfcc_train_actors_path = os.path.join(mfcc_train_dir, \"actors\")\n",
    "fbank_train_dir = os.path.join(data_dir, \"CREMA-D_Preproc_1_training_FBANK\")\n",
    "fbank_train_input_path = os.path.join(fbank_train_dir, \"input_data\")\n",
    "fbank_train_labels_path = os.path.join(fbank_train_dir, \"labels\")\n",
    "fbank_train_actors_path = os.path.join(fbank_train_dir, \"actors\")"
   ]
  },
  {
   "cell_type": "markdown",
   "metadata": {},
   "source": [
    "#### Test data paths"
   ]
  },
  {
   "cell_type": "code",
   "execution_count": 15,
   "metadata": {},
   "outputs": [],
   "source": [
    "mfcc_test_dir = os.path.join(data_dir, \"CREMA-D_Preproc_1_test_MFCC\")\n",
    "mfcc_test_input_path = os.path.join(mfcc_test_dir, \"input_data\")\n",
    "mfcc_test_labels_path = os.path.join(mfcc_test_dir, \"labels\")\n",
    "mfcc_test_actors_path = os.path.join(mfcc_test_dir, \"actors\")\n",
    "fbank_test_dir = os.path.join(data_dir, \"CREMA-D_Preproc_1_test_FBANK\")\n",
    "fbank_test_input_path = os.path.join(fbank_test_dir, \"input_data\")\n",
    "fbank_test_labels_path = os.path.join(fbank_test_dir, \"labels\")\n",
    "fbank_test_actors_path = os.path.join(fbank_test_dir, \"actors\")"
   ]
  },
  {
   "cell_type": "markdown",
   "metadata": {},
   "source": [
    "### Load data"
   ]
  },
  {
   "cell_type": "code",
   "execution_count": 16,
   "metadata": {},
   "outputs": [],
   "source": [
    "def load_data(input_path, labels_path, actors_path):\n",
    "    X = []\n",
    "    Y = []\n",
    "    A = []\n",
    "    for input_file_name in os.listdir(input_path):\n",
    "        file_name = input_file_name.split(\".\")[0]\n",
    "        x = np.load(os.path.join(input_path, input_file_name))\n",
    "        y = np.load(os.path.join(labels_path, file_name + \"_labels.npy\"))[..., np.newaxis]\n",
    "        actors = np.load(os.path.join(actors_path, file_name + \"_actors.npy\"))[..., np.newaxis]\n",
    "        X.append(x)\n",
    "        Y.append(y)\n",
    "        A.append(actors)\n",
    "    X = np.vstack(X)\n",
    "    Y = np.vstack(Y)\n",
    "    A = np.vstack(A)\n",
    "    return X, Y, A"
   ]
  },
  {
   "cell_type": "markdown",
   "metadata": {},
   "source": [
    "###### Load training data"
   ]
  },
  {
   "cell_type": "code",
   "execution_count": 17,
   "metadata": {},
   "outputs": [],
   "source": [
    "X_mfcc_tr, y_mfcc_tr, actors_mfcc_tr = load_data(mfcc_train_input_path, mfcc_train_labels_path, mfcc_train_actors_path)"
   ]
  },
  {
   "cell_type": "code",
   "execution_count": 18,
   "metadata": {},
   "outputs": [],
   "source": [
    "X_fbank_tr, y_fbank_tr, actors_fbank_tr = load_data(fbank_train_input_path, fbank_train_labels_path, fbank_train_actors_path)"
   ]
  },
  {
   "cell_type": "markdown",
   "metadata": {},
   "source": [
    "###### Load test data"
   ]
  },
  {
   "cell_type": "code",
   "execution_count": 19,
   "metadata": {},
   "outputs": [],
   "source": [
    "X_mfcc_ts, y_mfcc_ts, actors_mfcc_ts = load_data(mfcc_test_input_path, mfcc_test_labels_path, mfcc_test_actors_path)"
   ]
  },
  {
   "cell_type": "code",
   "execution_count": 20,
   "metadata": {},
   "outputs": [],
   "source": [
    "X_fbank_ts, y_fbank_ts, actors_fbank_ts = load_data(fbank_test_input_path, fbank_test_labels_path, fbank_test_actors_path)"
   ]
  },
  {
   "cell_type": "code",
   "execution_count": 21,
   "metadata": {},
   "outputs": [],
   "source": [
    "label_dict = {value: index  for index, value in enumerate(np.unique(y_mfcc_tr))}"
   ]
  },
  {
   "cell_type": "markdown",
   "metadata": {},
   "source": [
    "### Prepare data for training"
   ]
  },
  {
   "cell_type": "markdown",
   "metadata": {},
   "source": [
    "#### Turn labels from strings to integer identifiers"
   ]
  },
  {
   "cell_type": "code",
   "execution_count": 22,
   "metadata": {},
   "outputs": [],
   "source": [
    "y_mfcc_tr = np.vectorize(label_dict.get)(y_mfcc_tr)\n",
    "y_fbank_tr = np.vectorize(label_dict.get)(y_fbank_tr)\n",
    "y_mfcc_ts = np.vectorize(label_dict.get)(y_mfcc_ts)\n",
    "y_fbank_ts = np.vectorize(label_dict.get)(y_fbank_ts)"
   ]
  },
  {
   "cell_type": "markdown",
   "metadata": {},
   "source": [
    "#### Reshape input arrays and labels"
   ]
  },
  {
   "cell_type": "code",
   "execution_count": 23,
   "metadata": {},
   "outputs": [],
   "source": [
    "X_mfcc_tr = X_mfcc_tr.reshape((X_mfcc_tr.shape[0], X_mfcc_tr.shape[1] * X_mfcc_tr.shape[2]))\n",
    "X_mfcc_ts = X_mfcc_ts.reshape((X_mfcc_ts.shape[0], X_mfcc_ts.shape[1] * X_mfcc_ts.shape[2]))\n",
    "X_fbank_tr = X_fbank_tr.reshape((X_fbank_tr.shape[0], X_fbank_tr.shape[1] * X_fbank_tr.shape[2]))\n",
    "X_fbank_ts = X_fbank_ts.reshape((X_fbank_ts.shape[0], X_fbank_ts.shape[1] * X_fbank_ts.shape[2]))"
   ]
  },
  {
   "cell_type": "code",
   "execution_count": 24,
   "metadata": {},
   "outputs": [],
   "source": [
    "y_mfcc_tr = y_mfcc_tr.flatten()\n",
    "y_mfcc_ts = y_mfcc_ts.flatten()\n",
    "y_fbank_tr = y_fbank_tr.flatten()\n",
    "y_fbank_ts = y_fbank_ts.flatten()"
   ]
  },
  {
   "cell_type": "markdown",
   "metadata": {},
   "source": [
    "### Normalize data"
   ]
  },
  {
   "cell_type": "code",
   "execution_count": 25,
   "metadata": {},
   "outputs": [],
   "source": [
    "mfcc_mean = X_mfcc_tr.mean()\n",
    "mfcc_std = X_mfcc_tr.std()\n",
    "X_mfcc_tr = (X_mfcc_tr - mfcc_mean) / mfcc_std \n",
    "X_mfcc_ts = (X_mfcc_ts - mfcc_mean) / mfcc_std"
   ]
  },
  {
   "cell_type": "code",
   "execution_count": 26,
   "metadata": {},
   "outputs": [],
   "source": [
    "fbank_mean = X_fbank_tr.mean()\n",
    "fbank_std = X_fbank_tr.std()\n",
    "X_fbank_tr = (X_fbank_tr - fbank_mean) / fbank_std \n",
    "X_fbank_ts = (X_fbank_ts - fbank_mean) / fbank_std"
   ]
  },
  {
   "cell_type": "markdown",
   "metadata": {},
   "source": [
    "### Define sample weights"
   ]
  },
  {
   "cell_type": "code",
   "execution_count": 27,
   "metadata": {},
   "outputs": [],
   "source": [
    "class_counts = [len(y_mfcc_tr[y_mfcc_tr == i]) for i in label_dict.values()]\n",
    "class_weights = [max(class_counts)/class_count for class_count in class_counts]\n",
    "class_weight_dict = {class_idx: class_weight for class_idx, class_weight in zip(label_dict.values(), class_weights)}"
   ]
  },
  {
   "cell_type": "code",
   "execution_count": 28,
   "metadata": {},
   "outputs": [
    {
     "data": {
      "text/plain": [
       "{'ANG': 0, 'DIS': 1, 'FEA': 2, 'HAP': 3, 'NEU': 4, 'SAD': 5}"
      ]
     },
     "execution_count": 28,
     "metadata": {},
     "output_type": "execute_result"
    }
   ],
   "source": [
    "label_dict"
   ]
  },
  {
   "cell_type": "markdown",
   "metadata": {},
   "source": [
    "### Train and test logistic regression classifier"
   ]
  },
  {
   "cell_type": "markdown",
   "metadata": {},
   "source": [
    "##### Train with MFCC features"
   ]
  },
  {
   "cell_type": "code",
   "execution_count": 29,
   "metadata": {},
   "outputs": [],
   "source": [
    "multi_class = 'multinomial'\n",
    "model = LogisticRegression(multi_class=multi_class, max_iter=15000, random_state=0)"
   ]
  },
  {
   "cell_type": "code",
   "execution_count": 30,
   "metadata": {},
   "outputs": [],
   "source": [
    "sample_weight = [class_weight_dict[label] for label in y_mfcc_tr]"
   ]
  },
  {
   "cell_type": "code",
   "execution_count": 31,
   "metadata": {},
   "outputs": [],
   "source": [
    "model = model.fit(X_mfcc_tr, y_mfcc_tr, sample_weight=sample_weight)"
   ]
  },
  {
   "cell_type": "code",
   "execution_count": 32,
   "metadata": {},
   "outputs": [
    {
     "name": "stdout",
     "output_type": "stream",
     "text": [
      "              precision    recall  f1-score   support\n",
      "\n",
      "           0       0.44      0.50      0.47       125\n",
      "           1       0.26      0.26      0.26       125\n",
      "           2       0.24      0.25      0.25       125\n",
      "           3       0.25      0.25      0.25       125\n",
      "           4       0.40      0.37      0.39       107\n",
      "           5       0.39      0.36      0.38       125\n",
      "\n",
      "    accuracy                           0.33       732\n",
      "   macro avg       0.33      0.33      0.33       732\n",
      "weighted avg       0.33      0.33      0.33       732\n",
      "\n",
      "0.33163862928348914\n"
     ]
    }
   ],
   "source": [
    "y_preds = model.predict(X_mfcc_ts)\n",
    "print(classification_report(y_mfcc_ts, y_preds))\n",
    "print(balanced_accuracy_score(y_mfcc_ts, y_preds))"
   ]
  },
  {
   "cell_type": "markdown",
   "metadata": {},
   "source": [
    "##### Train with FBANK features"
   ]
  },
  {
   "cell_type": "code",
   "execution_count": 33,
   "metadata": {},
   "outputs": [],
   "source": [
    "model = LogisticRegression(multi_class=multi_class, max_iter=15000, random_state=0)"
   ]
  },
  {
   "cell_type": "code",
   "execution_count": 34,
   "metadata": {},
   "outputs": [],
   "source": [
    "model = model.fit(X_fbank_tr, y_fbank_tr, sample_weight=sample_weight)"
   ]
  },
  {
   "cell_type": "code",
   "execution_count": 35,
   "metadata": {},
   "outputs": [
    {
     "name": "stdout",
     "output_type": "stream",
     "text": [
      "              precision    recall  f1-score   support\n",
      "\n",
      "           0       0.54      0.53      0.53       125\n",
      "           1       0.31      0.24      0.27       125\n",
      "           2       0.35      0.22      0.27       125\n",
      "           3       0.35      0.29      0.32       125\n",
      "           4       0.45      0.53      0.49       107\n",
      "           5       0.45      0.73      0.55       125\n",
      "\n",
      "    accuracy                           0.42       732\n",
      "   macro avg       0.41      0.42      0.41       732\n",
      "weighted avg       0.41      0.42      0.40       732\n",
      "\n",
      "0.4234517133956386\n"
     ]
    }
   ],
   "source": [
    "y_preds = model.predict(X_fbank_ts)\n",
    "print(classification_report(y_fbank_ts, y_preds))\n",
    "print(balanced_accuracy_score(y_fbank_ts, y_preds))"
   ]
  },
  {
   "cell_type": "markdown",
   "metadata": {},
   "source": [
    "### Train and test RandomForest classifier"
   ]
  },
  {
   "cell_type": "markdown",
   "metadata": {},
   "source": [
    "##### Train with MFCC features"
   ]
  },
  {
   "cell_type": "code",
   "execution_count": 36,
   "metadata": {},
   "outputs": [],
   "source": [
    "model = RandomForestClassifier(n_estimators=400, random_state=0)"
   ]
  },
  {
   "cell_type": "code",
   "execution_count": 37,
   "metadata": {},
   "outputs": [],
   "source": [
    "model = model.fit(X_mfcc_tr, y_mfcc_tr, sample_weight=sample_weight)"
   ]
  },
  {
   "cell_type": "code",
   "execution_count": 38,
   "metadata": {},
   "outputs": [
    {
     "name": "stdout",
     "output_type": "stream",
     "text": [
      "              precision    recall  f1-score   support\n",
      "\n",
      "           0       0.59      0.83      0.69       125\n",
      "           1       0.48      0.32      0.38       125\n",
      "           2       0.75      0.12      0.21       125\n",
      "           3       0.44      0.54      0.49       125\n",
      "           4       0.56      0.72      0.63       107\n",
      "           5       0.51      0.66      0.58       125\n",
      "\n",
      "    accuracy                           0.53       732\n",
      "   macro avg       0.56      0.53      0.50       732\n",
      "weighted avg       0.55      0.53      0.49       732\n",
      "\n",
      "0.5319376947040498\n"
     ]
    }
   ],
   "source": [
    "y_preds = model.predict(X_mfcc_ts)\n",
    "print(classification_report(y_mfcc_ts, y_preds))\n",
    "print(balanced_accuracy_score(y_mfcc_ts, y_preds))"
   ]
  },
  {
   "cell_type": "markdown",
   "metadata": {},
   "source": [
    "##### Train with FBANK features"
   ]
  },
  {
   "cell_type": "code",
   "execution_count": 39,
   "metadata": {},
   "outputs": [],
   "source": [
    "model = RandomForestClassifier(n_estimators=400, random_state=0)"
   ]
  },
  {
   "cell_type": "code",
   "execution_count": 40,
   "metadata": {},
   "outputs": [],
   "source": [
    "model = model.fit(X_fbank_tr, y_fbank_tr, sample_weight=sample_weight)"
   ]
  },
  {
   "cell_type": "code",
   "execution_count": 41,
   "metadata": {},
   "outputs": [
    {
     "name": "stdout",
     "output_type": "stream",
     "text": [
      "              precision    recall  f1-score   support\n",
      "\n",
      "           0       0.59      0.72      0.65       125\n",
      "           1       0.54      0.36      0.43       125\n",
      "           2       0.52      0.13      0.21       125\n",
      "           3       0.41      0.55      0.47       125\n",
      "           4       0.56      0.75      0.64       107\n",
      "           5       0.57      0.69      0.62       125\n",
      "\n",
      "    accuracy                           0.53       732\n",
      "   macro avg       0.53      0.53      0.50       732\n",
      "weighted avg       0.53      0.53      0.50       732\n",
      "\n",
      "0.5326105919003116\n"
     ]
    }
   ],
   "source": [
    "y_preds = model.predict(X_fbank_ts)\n",
    "print(classification_report(y_fbank_ts, y_preds))\n",
    "print(balanced_accuracy_score(y_fbank_ts, y_preds))"
   ]
  },
  {
   "cell_type": "markdown",
   "metadata": {},
   "source": [
    "### Chance level performance"
   ]
  },
  {
   "cell_type": "code",
   "execution_count": 42,
   "metadata": {},
   "outputs": [
    {
     "name": "stdout",
     "output_type": "stream",
     "text": [
      "Macro f1: 0.1660242992716058\n",
      "Macro recall: 0.1664618068535826\n",
      "Macro precision: 0.16641704769631807\n"
     ]
    }
   ],
   "source": [
    "trials = 100\n",
    "avg_f1 = 0.0\n",
    "avg_prec = 0.0\n",
    "avg_rec = 0.0\n",
    "for i in range(trials):\n",
    "    y_preds = np.random.choice(np.unique(y_fbank_tr), y_fbank_ts.shape[0])\n",
    "    avg_f1 += f1_score(y_fbank_ts, y_preds, average='macro')\n",
    "    avg_prec += precision_score(y_fbank_ts, y_preds, average='macro')\n",
    "    avg_rec += recall_score(y_fbank_ts, y_preds, average='macro')\n",
    "avg_f1 /= trials\n",
    "avg_prec /= trials\n",
    "avg_rec /= trials\n",
    "print(\"Macro f1: {}\".format(avg_f1))\n",
    "print(\"Macro recall: {}\".format(avg_rec))\n",
    "print(\"Macro precision: {}\".format(avg_prec))"
   ]
  }
 ],
 "metadata": {
  "kernelspec": {
   "display_name": "Python 3",
   "language": "python",
   "name": "python3"
  },
  "language_info": {
   "codemirror_mode": {
    "name": "ipython",
    "version": 3
   },
   "file_extension": ".py",
   "mimetype": "text/x-python",
   "name": "python",
   "nbconvert_exporter": "python",
   "pygments_lexer": "ipython3",
   "version": "3.8.3"
  }
 },
 "nbformat": 4,
 "nbformat_minor": 2
}
