{
 "cells": [
  {
   "cell_type": "markdown",
   "metadata": {},
   "source": [
    "# The purpose of this notebook is to evaluate different representations by using T-SNE for dimensionality reduction and visualization\n",
    "\n",
    "We evaluate the following:\n",
    "1. TiFGAN features\n",
    "2. Post-hoc encoder features\n",
    "3. BiTiFGAN features\n",
    "4. TiFGAN discriminator features\n",
    "5. MFCC features\n",
    "6. FBANK features"
   ]
  },
  {
   "cell_type": "markdown",
   "metadata": {},
   "source": [
    "## Import packages"
   ]
  },
  {
   "cell_type": "code",
   "execution_count": 1,
   "metadata": {},
   "outputs": [],
   "source": [
    "import os\n",
    "os.chdir(os.path.join(\"/\", \"home\", \"c-matsty\", \"Bi-TiFGAN---TensorFlow-1.14\", \"src\"))\n",
    "\n",
    "import numpy as np\n",
    "import matplotlib.pyplot as plt\n",
    "import matplotlib.colors as pltc\n",
    "from sklearn.manifold import TSNE\n",
    "\n",
    "from feature_evaluation.utils import load_data, load_data_labels"
   ]
  },
  {
   "cell_type": "code",
   "execution_count": 2,
   "metadata": {},
   "outputs": [],
   "source": [
    "os.environ[\"CUDA_VISIBLE_DEVICES\"] = \"2\""
   ]
  },
  {
   "cell_type": "markdown",
   "metadata": {},
   "source": [
    "## Path to datasets with SpeechCommands representations"
   ]
  },
  {
   "cell_type": "code",
   "execution_count": 3,
   "metadata": {},
   "outputs": [],
   "source": [
    "data_dir = os.path.join(\"/media\", \"datastore\", \"c-matsty-data\", \"datasets\", \"SpeechCommands\")"
   ]
  },
  {
   "cell_type": "markdown",
   "metadata": {},
   "source": [
    "## 1. TiFGAN feature visualization with T-SNE"
   ]
  },
  {
   "cell_type": "markdown",
   "metadata": {},
   "source": [
    "### Paths to the input data, labels and actors"
   ]
  },
  {
   "cell_type": "code",
   "execution_count": 4,
   "metadata": {},
   "outputs": [],
   "source": [
    "train_dir = os.path.join(data_dir, \"SpeechCommands_Preproc_2_training\")\n",
    "train_input_path = os.path.join(train_dir, \"input_data\")\n",
    "train_labels_path = os.path.join(train_dir, \"labels\")\n",
    "train_actors_path = os.path.join(train_dir, \"actors\")"
   ]
  },
  {
   "cell_type": "code",
   "execution_count": 5,
   "metadata": {},
   "outputs": [],
   "source": [
    "test_dir = os.path.join(data_dir, \"SpeechCommands_Preproc_2_test\")\n",
    "test_input_path = os.path.join(test_dir, \"input_data\")\n",
    "test_labels_path = os.path.join(test_dir, \"labels\")\n",
    "test_actors_path = os.path.join(test_dir, \"actors\")"
   ]
  },
  {
   "cell_type": "markdown",
   "metadata": {},
   "source": [
    "### Load data"
   ]
  },
  {
   "cell_type": "code",
   "execution_count": 6,
   "metadata": {},
   "outputs": [
    {
     "name": "stderr",
     "output_type": "stream",
     "text": [
      "  1%|          | 1/165 [00:00<00:31,  5.13it/s]"
     ]
    },
    {
     "name": "stdout",
     "output_type": "stream",
     "text": [
      "Loading data\n"
     ]
    },
    {
     "name": "stderr",
     "output_type": "stream",
     "text": [
      "100%|██████████| 165/165 [00:32<00:00,  5.02it/s]\n",
      "  5%|▌         | 1/20 [00:00<00:03,  5.20it/s]"
     ]
    },
    {
     "name": "stdout",
     "output_type": "stream",
     "text": [
      "Loading data\n"
     ]
    },
    {
     "name": "stderr",
     "output_type": "stream",
     "text": [
      "100%|██████████| 20/20 [00:03<00:00,  5.05it/s]\n"
     ]
    }
   ],
   "source": [
    "X_tr = load_data(train_input_path)\n",
    "X_ts = load_data(test_input_path)"
   ]
  },
  {
   "cell_type": "markdown",
   "metadata": {},
   "source": [
    "### Load labels"
   ]
  },
  {
   "cell_type": "code",
   "execution_count": 7,
   "metadata": {},
   "outputs": [
    {
     "name": "stderr",
     "output_type": "stream",
     "text": [
      "100%|██████████| 165/165 [00:00<00:00, 4766.85it/s]\n",
      "100%|██████████| 20/20 [00:00<00:00, 4155.24it/s]"
     ]
    },
    {
     "name": "stdout",
     "output_type": "stream",
     "text": [
      "-Read label meta-data for training and test dataset samples.\n"
     ]
    },
    {
     "name": "stderr",
     "output_type": "stream",
     "text": [
      "\n"
     ]
    }
   ],
   "source": [
    "print(\"-Read label meta-data for training and test dataset samples.\")\n",
    "y_tr = load_data_labels(train_labels_path)\n",
    "y_ts = load_data_labels(test_labels_path)\n",
    "label_dict = {value: index for index, value in enumerate(np.unique(y_tr))}\n",
    "y_tr = np.vectorize(label_dict.get)(y_tr)\n",
    "y_ts = np.vectorize(label_dict.get)(y_ts)"
   ]
  },
  {
   "cell_type": "markdown",
   "metadata": {},
   "source": [
    "### Load actors"
   ]
  },
  {
   "cell_type": "code",
   "execution_count": 71,
   "metadata": {},
   "outputs": [
    {
     "name": "stderr",
     "output_type": "stream",
     "text": [
      "100%|██████████| 165/165 [00:00<00:00, 3910.28it/s]\n",
      "100%|██████████| 20/20 [00:00<00:00, 3977.34it/s]"
     ]
    },
    {
     "name": "stdout",
     "output_type": "stream",
     "text": [
      "-Read actor meta-data for training and test dataset samples.\n"
     ]
    },
    {
     "name": "stderr",
     "output_type": "stream",
     "text": [
      "\n"
     ]
    }
   ],
   "source": [
    "print(\"-Read actor meta-data for training and test dataset samples.\")\n",
    "a_tr = load_data_labels(train_actors_path)\n",
    "a_ts = load_data_labels(test_actors_path)"
   ]
  },
  {
   "cell_type": "markdown",
   "metadata": {},
   "source": [
    "### Prepare data for T-SNE"
   ]
  },
  {
   "cell_type": "code",
   "execution_count": 9,
   "metadata": {},
   "outputs": [],
   "source": [
    "X_tr = X_tr.reshape((X_tr.shape[0], -1))\n",
    "X_ts = X_ts.reshape((X_ts.shape[0], -1))"
   ]
  },
  {
   "cell_type": "markdown",
   "metadata": {},
   "source": [
    "### Train T-SNE model and transform data to 2-D representation"
   ]
  },
  {
   "cell_type": "code",
   "execution_count": null,
   "metadata": {},
   "outputs": [],
   "source": [
    "X_tr_embedded = TSNE(n_components=2, perplexity=2100, n_jobs=20).fit_transform(X_tr)"
   ]
  },
  {
   "cell_type": "code",
   "execution_count": null,
   "metadata": {},
   "outputs": [],
   "source": [
    "X_ts_embedded = TSNE(n_components=2, perplexity=250, n_jobs=20).fit_transform(X_ts)"
   ]
  },
  {
   "cell_type": "markdown",
   "metadata": {},
   "source": [
    "### TiFGAN features embedded on a 2-D space by T-SNE - Colored by keyword"
   ]
  },
  {
   "cell_type": "code",
   "execution_count": null,
   "metadata": {},
   "outputs": [],
   "source": [
    "def scatterplot_colored_labels(X_embedded, labels, title, legend=True):\n",
    "    # Set plot size\n",
    "    plt.rcParams[('figure.figsize')] = (10, 10)\n",
    "    # Get unique labels\n",
    "    unique_labels = np.unique(labels)\n",
    "    # Get distinct colors, as many as distinct labels\n",
    "    all_colours = [k for k,v in pltc.cnames.items()]\n",
    "    # If there are enough colours sample without replacement\n",
    "    replace = True if len(unique_labels) > len(all_colours) else False\n",
    "    np.random.seed(30000)\n",
    "    selected_colours = np.random.choice(all_colours, replace=replace, size=len(unique_labels))\n",
    "    # For each unique label in the dataset\n",
    "    for i, unique_label in enumerate(unique_labels):\n",
    "        # Select data with that unique dataset\n",
    "        X_with_label = X_embedded[labels == unique_label]\n",
    "        # Create scatter plot with that data\n",
    "        plt.scatter(X_with_label[:, 0], X_with_label[:, 1], label=\"Class {}\".format(str(unique_label)),\n",
    "                    c=selected_colours[i], edgecolors='black')\n",
    "    \n",
    "    if legend:\n",
    "        plt.legend()\n",
    "        \n",
    "    plt.tight_layout()\n",
    "    plt.title(title, size=16)\n",
    "    plt.show()"
   ]
  },
  {
   "cell_type": "code",
   "execution_count": null,
   "metadata": {},
   "outputs": [],
   "source": [
    "scatterplot_colored_labels(X_tr_embedded, y_tr, \"Training TiFGAN features embedded on a 2-D space - coloured by class\")"
   ]
  },
  {
   "cell_type": "code",
   "execution_count": null,
   "metadata": {},
   "outputs": [],
   "source": [
    "scatterplot_colored_labels(X_ts_embedded, y_ts, \"Test TiFGAN features embedded on a 2-D space - Colored by class\")"
   ]
  },
  {
   "cell_type": "markdown",
   "metadata": {},
   "source": [
    "### TiFGAN features embedded on a 2-D space by T-SNE - Colored by speaker"
   ]
  },
  {
   "cell_type": "code",
   "execution_count": null,
   "metadata": {},
   "outputs": [],
   "source": [
    "scatterplot_colored_labels(X_tr_embedded, a_tr, \"Test TiFGAN features embedded on a 2-D space - Colored by speaker\", legend=False)"
   ]
  },
  {
   "cell_type": "code",
   "execution_count": null,
   "metadata": {},
   "outputs": [],
   "source": [
    "scatterplot_colored_labels(X_ts_embedded, a_ts, \"Test TiFGAN features embedded on a 2-D space - Colored by speaker\", legend=False)"
   ]
  }
 ],
 "metadata": {
  "kernelspec": {
   "display_name": "Python 3",
   "language": "python",
   "name": "python3"
  }
 },
 "nbformat": 4,
 "nbformat_minor": 4
}
