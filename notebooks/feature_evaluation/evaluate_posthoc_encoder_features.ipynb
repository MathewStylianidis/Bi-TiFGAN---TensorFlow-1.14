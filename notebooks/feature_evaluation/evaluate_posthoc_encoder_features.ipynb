{
 "cells": [
  {
   "cell_type": "markdown",
   "metadata": {},
   "source": [
    "## The purpose of this notebook is to evaluate the discriminative capabilities of the representations learned by a post-hoc encoder trained with a fixed generator by performing keyword detection on the SC09 dataset\n",
    "\n",
    "* We train a Logistic Regression as well as a Random Forest classifier on top of those features and report our performance on the SC09 test set."
   ]
  },
  {
   "cell_type": "markdown",
   "metadata": {},
   "source": [
    "### Import packages"
   ]
  },
  {
   "cell_type": "code",
   "execution_count": 1,
   "metadata": {},
   "outputs": [],
   "source": [
    "import os\n",
    "\n",
    "import numpy as np\n",
    "from sklearn.linear_model import LogisticRegression\n",
    "from sklearn.ensemble import RandomForestClassifier\n",
    "from sklearn.metrics import plot_confusion_matrix, classification_report, accuracy_score, balanced_accuracy_score, f1_score, precision_score, recall_score"
   ]
  },
  {
   "cell_type": "markdown",
   "metadata": {},
   "source": [
    "### Define paths"
   ]
  },
  {
   "cell_type": "code",
   "execution_count": 4,
   "metadata": {},
   "outputs": [],
   "source": [
    "data_dir = os.path.join(\"/media\", \"datastore\", \"c-matsty-data\", \"datasets\", \"SpeechCommands\")"
   ]
  },
  {
   "cell_type": "markdown",
   "metadata": {},
   "source": [
    "#### Discriminator features path"
   ]
  },
  {
   "cell_type": "code",
   "execution_count": 6,
   "metadata": {},
   "outputs": [],
   "source": [
    "encoder_features_dirname = \"Posthoc_encoder_features\"\n",
    "training_input_path = os.path.join(data_dir, encoder_features_dirname, \"training.npy\")\n",
    "test_input_path = os.path.join(data_dir, encoder_features_dirname, \"test.npy\")"
   ]
  },
  {
   "cell_type": "markdown",
   "metadata": {},
   "source": [
    "#### Label paths"
   ]
  },
  {
   "cell_type": "code",
   "execution_count": 7,
   "metadata": {},
   "outputs": [],
   "source": [
    "training_label_dir = os.path.join(data_dir, \"SpeechCommands_Preproc_2_training\", \"labels\")\n",
    "test_label_dir = os.path.join(data_dir, \"SpeechCommands_Preproc_2_test\", \"labels\")"
   ]
  },
  {
   "cell_type": "code",
   "execution_count": 8,
   "metadata": {},
   "outputs": [],
   "source": [
    "def load_labels(labels_path):\n",
    "    Y = []\n",
    "    for input_file_name in os.listdir(labels_path):\n",
    "        y = np.load(os.path.join(labels_path, input_file_name))[..., np.newaxis]\n",
    "        Y.append(y)\n",
    "    Y = np.vstack(Y)\n",
    "    return Y"
   ]
  },
  {
   "cell_type": "markdown",
   "metadata": {},
   "source": [
    "### Load data"
   ]
  },
  {
   "cell_type": "code",
   "execution_count": 27,
   "metadata": {},
   "outputs": [],
   "source": [
    "X_tr = np.load(training_input_path)"
   ]
  },
  {
   "cell_type": "code",
   "execution_count": 28,
   "metadata": {},
   "outputs": [],
   "source": [
    "X_ts = np.load(test_input_path)"
   ]
  },
  {
   "cell_type": "code",
   "execution_count": 29,
   "metadata": {},
   "outputs": [],
   "source": [
    "y_tr = load_labels(training_label_dir)\n",
    "y_ts = load_labels(test_label_dir)"
   ]
  },
  {
   "cell_type": "code",
   "execution_count": 30,
   "metadata": {},
   "outputs": [],
   "source": [
    "label_dict = {value: index  for index, value in enumerate(np.unique(y_tr))}"
   ]
  },
  {
   "cell_type": "markdown",
   "metadata": {},
   "source": [
    "### Prepare data for training"
   ]
  },
  {
   "cell_type": "markdown",
   "metadata": {},
   "source": [
    "#### Turn labels from strings to integer identifiers"
   ]
  },
  {
   "cell_type": "code",
   "execution_count": 31,
   "metadata": {},
   "outputs": [],
   "source": [
    "y_tr = np.vectorize(label_dict.get)(y_tr)\n",
    "y_ts = np.vectorize(label_dict.get)(y_ts)"
   ]
  },
  {
   "cell_type": "markdown",
   "metadata": {},
   "source": [
    "#### Reshape input arrays and labels"
   ]
  },
  {
   "cell_type": "code",
   "execution_count": 32,
   "metadata": {},
   "outputs": [],
   "source": [
    "y_tr = y_tr.flatten()\n",
    "y_ts = y_ts.flatten()"
   ]
  },
  {
   "cell_type": "markdown",
   "metadata": {},
   "source": [
    "### Normalize data"
   ]
  },
  {
   "cell_type": "code",
   "execution_count": 16,
   "metadata": {},
   "outputs": [],
   "source": [
    "mean = X_tr.mean()\n",
    "std = X_tr.std()\n",
    "X_tr = (X_tr - mean) / std \n",
    "X_ts = (X_ts - mean) / std"
   ]
  },
  {
   "cell_type": "markdown",
   "metadata": {},
   "source": [
    "### Define sample weights"
   ]
  },
  {
   "cell_type": "code",
   "execution_count": 33,
   "metadata": {},
   "outputs": [],
   "source": [
    "class_counts = [len(y_tr[y_tr == i]) for i in label_dict.values()]\n",
    "class_weights = [max(class_counts)/class_count for class_count in class_counts]\n",
    "class_weight_dict = {class_idx: class_weight for class_idx, class_weight in zip(label_dict.values(), class_weights)}"
   ]
  },
  {
   "cell_type": "code",
   "execution_count": 34,
   "metadata": {},
   "outputs": [
    {
     "data": {
      "text/plain": [
       "{'eight': 0,\n",
       " 'five': 1,\n",
       " 'four': 2,\n",
       " 'nine': 3,\n",
       " 'one': 4,\n",
       " 'seven': 5,\n",
       " 'six': 6,\n",
       " 'three': 7,\n",
       " 'two': 8,\n",
       " 'zero': 9}"
      ]
     },
     "execution_count": 34,
     "metadata": {},
     "output_type": "execute_result"
    }
   ],
   "source": [
    "label_dict"
   ]
  },
  {
   "cell_type": "markdown",
   "metadata": {},
   "source": [
    "### Train and test logistic regression classifier"
   ]
  },
  {
   "cell_type": "code",
   "execution_count": 42,
   "metadata": {},
   "outputs": [],
   "source": [
    "multi_class = 'multinomial'\n",
    "model = LogisticRegression(multi_class=multi_class, max_iter=15000, random_state=0, penalty='elasticnet', solver='saga', l1_ratio=0.5)"
   ]
  },
  {
   "cell_type": "code",
   "execution_count": 43,
   "metadata": {},
   "outputs": [],
   "source": [
    "sample_weight = [class_weight_dict[label] for label in y_tr]"
   ]
  },
  {
   "cell_type": "code",
   "execution_count": 44,
   "metadata": {},
   "outputs": [],
   "source": [
    "model = model.fit(X_tr, y_tr, sample_weight=sample_weight)"
   ]
  },
  {
   "cell_type": "code",
   "execution_count": 45,
   "metadata": {},
   "outputs": [
    {
     "name": "stdout",
     "output_type": "stream",
     "text": [
      "              precision    recall  f1-score   support\n",
      "\n",
      "           0       0.04      0.04      0.04       257\n",
      "           1       0.09      0.11      0.10       270\n",
      "           2       0.08      0.10      0.09       253\n",
      "           3       0.12      0.11      0.11       259\n",
      "           4       0.06      0.07      0.06       248\n",
      "           5       0.09      0.08      0.08       239\n",
      "           6       0.11      0.09      0.10       244\n",
      "           7       0.15      0.12      0.13       267\n",
      "           8       0.08      0.08      0.08       264\n",
      "           9       0.05      0.05      0.05       250\n",
      "\n",
      "    accuracy                           0.09      2551\n",
      "   macro avg       0.09      0.09      0.09      2551\n",
      "weighted avg       0.09      0.09      0.09      2551\n",
      "\n",
      "0.08505391982672493\n"
     ]
    }
   ],
   "source": [
    "y_preds = model.predict(X_ts)\n",
    "print(classification_report(y_ts, y_preds))\n",
    "print(balanced_accuracy_score(y_ts, y_preds))"
   ]
  },
  {
   "cell_type": "markdown",
   "metadata": {},
   "source": [
    "### Train and test RandomForest classifier"
   ]
  },
  {
   "cell_type": "code",
   "execution_count": 46,
   "metadata": {},
   "outputs": [],
   "source": [
    "model = RandomForestClassifier(n_estimators=100, random_state=0)"
   ]
  },
  {
   "cell_type": "code",
   "execution_count": 47,
   "metadata": {},
   "outputs": [],
   "source": [
    "model = model.fit(X_tr, y_tr, sample_weight=sample_weight)"
   ]
  },
  {
   "cell_type": "code",
   "execution_count": 48,
   "metadata": {},
   "outputs": [
    {
     "name": "stdout",
     "output_type": "stream",
     "text": [
      "              precision    recall  f1-score   support\n",
      "\n",
      "           0       0.09      0.09      0.09       257\n",
      "           1       0.10      0.11      0.11       270\n",
      "           2       0.09      0.09      0.09       253\n",
      "           3       0.07      0.07      0.07       259\n",
      "           4       0.06      0.08      0.07       248\n",
      "           5       0.08      0.08      0.08       239\n",
      "           6       0.08      0.07      0.07       244\n",
      "           7       0.06      0.04      0.05       267\n",
      "           8       0.10      0.08      0.09       264\n",
      "           9       0.06      0.06      0.06       250\n",
      "\n",
      "    accuracy                           0.08      2551\n",
      "   macro avg       0.08      0.08      0.08      2551\n",
      "weighted avg       0.08      0.08      0.08      2551\n",
      "\n",
      "0.07831317614203837\n"
     ]
    }
   ],
   "source": [
    "y_preds = model.predict(X_ts)\n",
    "print(classification_report(y_ts, y_preds))\n",
    "print(balanced_accuracy_score(y_ts, y_preds))"
   ]
  },
  {
   "cell_type": "code",
   "execution_count": null,
   "metadata": {},
   "outputs": [],
   "source": []
  }
 ],
 "metadata": {
  "kernelspec": {
   "display_name": "Python 3",
   "language": "python",
   "name": "python3"
  },
  "language_info": {
   "codemirror_mode": {
    "name": "ipython",
    "version": 3
   },
   "file_extension": ".py",
   "mimetype": "text/x-python",
   "name": "python",
   "nbconvert_exporter": "python",
   "pygments_lexer": "ipython3",
   "version": "3.7.4"
  }
 },
 "nbformat": 4,
 "nbformat_minor": 2
}
