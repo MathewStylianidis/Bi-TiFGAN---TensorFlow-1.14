{
 "cells": [
  {
   "cell_type": "markdown",
   "metadata": {},
   "source": [
    "## The purpose of this notebook is to evaluate the discriminative capabilities of the representations learned by the TiFGAN's discriminator by performing keyword detection on the SC09 dataset\n",
    "\n",
    "* We train a Logistic Regression as well as a Random Forest classifier on top of those features and report our performance on the SC09 test set."
   ]
  },
  {
   "cell_type": "markdown",
   "metadata": {},
   "source": [
    "### Import packages"
   ]
  },
  {
   "cell_type": "code",
   "execution_count": 2,
   "metadata": {},
   "outputs": [],
   "source": [
    "import os\n",
    "\n",
    "import numpy as np\n",
    "from sklearn.linear_model import LogisticRegression\n",
    "from sklearn.ensemble import RandomForestClassifier\n",
    "from sklearn.metrics import plot_confusion_matrix, classification_report, accuracy_score, balanced_accuracy_score, f1_score, precision_score, recall_score"
   ]
  },
  {
   "cell_type": "markdown",
   "metadata": {},
   "source": [
    "### Define paths"
   ]
  },
  {
   "cell_type": "code",
   "execution_count": 3,
   "metadata": {},
   "outputs": [],
   "source": [
    "data_dir = os.path.join(\"/media\", \"datastore\", \"c-matsty-data\", \"datasets\", \"SpeechCommands\")"
   ]
  },
  {
   "cell_type": "markdown",
   "metadata": {},
   "source": [
    "#### Discriminator features path"
   ]
  },
  {
   "cell_type": "code",
   "execution_count": 4,
   "metadata": {},
   "outputs": [],
   "source": [
    "discr_features_dirname = \"Discriminator_features\"\n",
    "training_input_path = os.path.join(data_dir, discr_features_dirname, \"SC09_training_discriminator_features_last_conv.npy\")\n",
    "test_input_path = os.path.join(data_dir, discr_features_dirname, \"SC09_test_discriminator_features_last_conv.npy\")"
   ]
  },
  {
   "cell_type": "markdown",
   "metadata": {},
   "source": [
    "#### Label paths"
   ]
  },
  {
   "cell_type": "code",
   "execution_count": 5,
   "metadata": {},
   "outputs": [],
   "source": [
    "training_label_dir = os.path.join(data_dir, \"SpeechCommands_Preproc_2_training\", \"labels\")\n",
    "test_label_dir = os.path.join(data_dir, \"SpeechCommands_Preproc_2_test\", \"labels\")"
   ]
  },
  {
   "cell_type": "code",
   "execution_count": 6,
   "metadata": {},
   "outputs": [],
   "source": [
    "def load_labels(labels_path):\n",
    "    Y = []\n",
    "    for input_file_name in os.listdir(labels_path):\n",
    "        y = np.load(os.path.join(labels_path, input_file_name))[..., np.newaxis]\n",
    "        Y.append(y)\n",
    "    Y = np.vstack(Y)\n",
    "    return Y"
   ]
  },
  {
   "cell_type": "markdown",
   "metadata": {},
   "source": [
    "### Load data"
   ]
  },
  {
   "cell_type": "code",
   "execution_count": 7,
   "metadata": {},
   "outputs": [],
   "source": [
    "X_tr = np.load(training_input_path)"
   ]
  },
  {
   "cell_type": "code",
   "execution_count": 8,
   "metadata": {},
   "outputs": [],
   "source": [
    "X_ts = np.load(test_input_path)"
   ]
  },
  {
   "cell_type": "code",
   "execution_count": 9,
   "metadata": {},
   "outputs": [],
   "source": [
    "y_tr = load_labels(training_label_dir)\n",
    "y_ts = load_labels(test_label_dir)"
   ]
  },
  {
   "cell_type": "code",
   "execution_count": 10,
   "metadata": {},
   "outputs": [],
   "source": [
    "label_dict = {value: index  for index, value in enumerate(np.unique(y_tr))}"
   ]
  },
  {
   "cell_type": "markdown",
   "metadata": {},
   "source": [
    "### Prepare data for training"
   ]
  },
  {
   "cell_type": "code",
   "execution_count": 11,
   "metadata": {},
   "outputs": [],
   "source": [
    "def global_average_pooling(X):\n",
    "    return np.apply_over_axes(np.mean, X, [1, 2])"
   ]
  },
  {
   "cell_type": "markdown",
   "metadata": {},
   "source": [
    "#### Turn labels from strings to integer identifiers"
   ]
  },
  {
   "cell_type": "code",
   "execution_count": 12,
   "metadata": {},
   "outputs": [],
   "source": [
    "y_tr = np.vectorize(label_dict.get)(y_tr)\n",
    "y_ts = np.vectorize(label_dict.get)(y_ts)"
   ]
  },
  {
   "cell_type": "markdown",
   "metadata": {},
   "source": [
    "#### Reshape input arrays and labels"
   ]
  },
  {
   "cell_type": "code",
   "execution_count": 13,
   "metadata": {},
   "outputs": [],
   "source": [
    "X_tr = X_tr.reshape((X_tr.shape[0], -1))\n",
    "X_ts = X_ts.reshape((X_ts.shape[0], -1))"
   ]
  },
  {
   "cell_type": "code",
   "execution_count": 14,
   "metadata": {},
   "outputs": [],
   "source": [
    "y_tr = y_tr.flatten()\n",
    "y_ts = y_ts.flatten()"
   ]
  },
  {
   "cell_type": "markdown",
   "metadata": {},
   "source": [
    "### Normalize data"
   ]
  },
  {
   "cell_type": "code",
   "execution_count": 15,
   "metadata": {},
   "outputs": [],
   "source": [
    "mean = X_tr.mean()\n",
    "std = X_tr.std()\n",
    "X_tr = (X_tr - mean) / std \n",
    "X_ts = (X_ts - mean) / std"
   ]
  },
  {
   "cell_type": "markdown",
   "metadata": {},
   "source": [
    "### Define sample weights"
   ]
  },
  {
   "cell_type": "code",
   "execution_count": 16,
   "metadata": {},
   "outputs": [],
   "source": [
    "class_counts = [len(y_tr[y_tr == i]) for i in label_dict.values()]\n",
    "class_weights = [max(class_counts)/class_count for class_count in class_counts]\n",
    "class_weight_dict = {class_idx: class_weight for class_idx, class_weight in zip(label_dict.values(), class_weights)}"
   ]
  },
  {
   "cell_type": "code",
   "execution_count": 17,
   "metadata": {},
   "outputs": [
    {
     "data": {
      "text/plain": [
       "{'eight': 0,\n",
       " 'five': 1,\n",
       " 'four': 2,\n",
       " 'nine': 3,\n",
       " 'one': 4,\n",
       " 'seven': 5,\n",
       " 'six': 6,\n",
       " 'three': 7,\n",
       " 'two': 8,\n",
       " 'zero': 9}"
      ]
     },
     "execution_count": 17,
     "metadata": {},
     "output_type": "execute_result"
    }
   ],
   "source": [
    "label_dict"
   ]
  },
  {
   "cell_type": "markdown",
   "metadata": {},
   "source": [
    "### Train and test logistic regression classifier"
   ]
  },
  {
   "cell_type": "code",
   "execution_count": null,
   "metadata": {},
   "outputs": [],
   "source": [
    "multi_class = 'multinomial'\n",
    "model = LogisticRegression(multi_class=multi_class, max_iter=15000, random_state=0)"
   ]
  },
  {
   "cell_type": "code",
   "execution_count": 28,
   "metadata": {},
   "outputs": [],
   "source": [
    "sample_weight = [class_weight_dict[label] for label in y_tr]"
   ]
  },
  {
   "cell_type": "code",
   "execution_count": null,
   "metadata": {},
   "outputs": [],
   "source": [
    "model = model.fit(X_tr, y_tr, sample_weight=sample_weight)"
   ]
  },
  {
   "cell_type": "code",
   "execution_count": null,
   "metadata": {},
   "outputs": [],
   "source": [
    "y_preds = model.predict(X_ts)\n",
    "print(classification_report(y_ts, y_preds))\n",
    "print(balanced_accuracy_score(y_ts, y_preds))"
   ]
  },
  {
   "cell_type": "markdown",
   "metadata": {},
   "source": [
    "### Train and test RandomForest classifier"
   ]
  },
  {
   "cell_type": "code",
   "execution_count": null,
   "metadata": {},
   "outputs": [],
   "source": [
    "model = RandomForestClassifier(n_estimators=400, random_state=0)"
   ]
  },
  {
   "cell_type": "code",
   "execution_count": null,
   "metadata": {},
   "outputs": [],
   "source": [
    "model = model.fit(X_tr, y_tr, sample_weight=sample_weight)"
   ]
  },
  {
   "cell_type": "code",
   "execution_count": null,
   "metadata": {},
   "outputs": [],
   "source": [
    "y_preds = model.predict(X_ts)\n",
    "print(classification_report(y_ts, y_preds))\n",
    "print(balanced_accuracy_score(y_ts, y_preds))"
   ]
  },
  {
   "cell_type": "markdown",
   "metadata": {},
   "source": [
    "## Repeat again but apply global pooling"
   ]
  },
  {
   "cell_type": "code",
   "execution_count": null,
   "metadata": {},
   "outputs": [],
   "source": [
    "training_input_path = os.path.join(data_dir, discr_features_dirname, \"SC09_training_discriminator_features_last_conv.npy\")\n",
    "test_input_path = os.path.join(data_dir, discr_features_dirname, \"SC09_test_discriminator_features_last_conv.npy\")"
   ]
  },
  {
   "cell_type": "markdown",
   "metadata": {},
   "source": [
    "#### Load data"
   ]
  },
  {
   "cell_type": "code",
   "execution_count": null,
   "metadata": {},
   "outputs": [],
   "source": [
    "X_tr = np.load(training_input_path)\n",
    "X_ts = np.load(test_input_path)"
   ]
  },
  {
   "cell_type": "markdown",
   "metadata": {},
   "source": [
    "#### Global average pooling"
   ]
  },
  {
   "cell_type": "code",
   "execution_count": null,
   "metadata": {},
   "outputs": [],
   "source": [
    "X_tr = global_average_pooling(X_tr)\n",
    "X_ts = global_average_pooling(X_ts)"
   ]
  },
  {
   "cell_type": "code",
   "execution_count": null,
   "metadata": {},
   "outputs": [],
   "source": [
    "X_tr = X_tr.reshape((X_tr.shape[0], -1))\n",
    "X_ts = X_ts.reshape((X_ts.shape[0], -1))"
   ]
  },
  {
   "cell_type": "markdown",
   "metadata": {},
   "source": [
    "#### Normalization"
   ]
  },
  {
   "cell_type": "code",
   "execution_count": null,
   "metadata": {},
   "outputs": [],
   "source": [
    "mean = X_tr.mean()\n",
    "std = X_tr.std()\n",
    "X_tr = (X_tr - mean) / std \n",
    "X_ts = (X_ts - mean) / std"
   ]
  },
  {
   "cell_type": "markdown",
   "metadata": {},
   "source": [
    "#### Train logistic regression classifier"
   ]
  },
  {
   "cell_type": "code",
   "execution_count": null,
   "metadata": {},
   "outputs": [],
   "source": [
    "multi_class = 'multinomial'\n",
    "model = LogisticRegression(multi_class=multi_class, max_iter=15000, random_state=0)"
   ]
  },
  {
   "cell_type": "code",
   "execution_count": null,
   "metadata": {},
   "outputs": [],
   "source": [
    "model = model.fit(X_tr, y_tr, sample_weight=sample_weight)"
   ]
  },
  {
   "cell_type": "code",
   "execution_count": null,
   "metadata": {},
   "outputs": [],
   "source": [
    "y_preds = model.predict(X_ts)\n",
    "print(classification_report(y_ts, y_preds))\n",
    "print(balanced_accuracy_score(y_ts, y_preds))"
   ]
  },
  {
   "cell_type": "code",
   "execution_count": null,
   "metadata": {},
   "outputs": [],
   "source": [
    "y_preds = model.predict(X_tr)\n",
    "print(classification_report(y_tr, y_preds))\n",
    "print(balanced_accuracy_score(y_tr, y_preds))"
   ]
  },
  {
   "cell_type": "markdown",
   "metadata": {},
   "source": [
    "##### Train Random Forest classifier"
   ]
  },
  {
   "cell_type": "code",
   "execution_count": null,
   "metadata": {},
   "outputs": [],
   "source": [
    "model = RandomForestClassifier(n_estimators=400, random_state=0)"
   ]
  },
  {
   "cell_type": "code",
   "execution_count": null,
   "metadata": {},
   "outputs": [],
   "source": [
    "model = model.fit(X_tr, y_tr, sample_weight=sample_weight)"
   ]
  },
  {
   "cell_type": "code",
   "execution_count": null,
   "metadata": {},
   "outputs": [],
   "source": [
    "y_preds = model.predict(X_ts)\n",
    "print(classification_report(y_ts, y_preds))\n",
    "print(balanced_accuracy_score(y_ts, y_preds))"
   ]
  },
  {
   "cell_type": "code",
   "execution_count": null,
   "metadata": {},
   "outputs": [],
   "source": [
    "y_preds = model.predict(X_tr)\n",
    "print(classification_report(y_tr, y_preds))\n",
    "print(balanced_accuracy_score(y_tr, y_preds))"
   ]
  },
  {
   "cell_type": "markdown",
   "metadata": {},
   "source": [
    "## Repeat for 4th conv layer"
   ]
  },
  {
   "cell_type": "code",
   "execution_count": null,
   "metadata": {},
   "outputs": [],
   "source": [
    "discr_features_dirname = \"Discriminator_features\"\n",
    "training_input_path = os.path.join(data_dir, discr_features_dirname, \"SC09_training_discriminator_features_3th_conv.npy\")\n",
    "test_input_path = os.path.join(data_dir, discr_features_dirname, \"SC09_test_discriminator_features_3th_conv.npy\")"
   ]
  },
  {
   "cell_type": "markdown",
   "metadata": {},
   "source": [
    "#### Load data"
   ]
  },
  {
   "cell_type": "code",
   "execution_count": null,
   "metadata": {},
   "outputs": [],
   "source": [
    "X_tr = np.load(training_input_path)"
   ]
  },
  {
   "cell_type": "code",
   "execution_count": null,
   "metadata": {},
   "outputs": [],
   "source": [
    "X_ts = np.load(test_input_path)"
   ]
  },
  {
   "cell_type": "markdown",
   "metadata": {},
   "source": [
    "#### Global average pooling"
   ]
  },
  {
   "cell_type": "code",
   "execution_count": null,
   "metadata": {},
   "outputs": [],
   "source": [
    "X_tr = global_average_pooling(X_tr)\n",
    "X_ts = global_average_pooling(X_ts)"
   ]
  },
  {
   "cell_type": "code",
   "execution_count": null,
   "metadata": {},
   "outputs": [],
   "source": [
    "X_tr = X_tr.reshape((X_tr.shape[0], -1))\n",
    "X_ts = X_ts.reshape((X_ts.shape[0], -1))"
   ]
  },
  {
   "cell_type": "markdown",
   "metadata": {},
   "source": [
    "#### Normalization"
   ]
  },
  {
   "cell_type": "code",
   "execution_count": null,
   "metadata": {},
   "outputs": [],
   "source": [
    "mean = X_tr.mean()\n",
    "std = X_tr.std()\n",
    "X_tr = (X_tr - mean) / std \n",
    "X_ts = (X_ts - mean) / std"
   ]
  },
  {
   "cell_type": "markdown",
   "metadata": {},
   "source": [
    "### Normalize data"
   ]
  },
  {
   "cell_type": "code",
   "execution_count": null,
   "metadata": {},
   "outputs": [],
   "source": [
    "mean = X_tr.mean()\n",
    "std = X_tr.std()\n",
    "X_tr = (X_tr - mean) / std \n",
    "X_ts = (X_ts - mean) / std"
   ]
  },
  {
   "cell_type": "markdown",
   "metadata": {},
   "source": [
    "#### Train logistic regression classifier"
   ]
  },
  {
   "cell_type": "code",
   "execution_count": null,
   "metadata": {},
   "outputs": [],
   "source": [
    "multi_class = 'multinomial'\n",
    "model = LogisticRegression(multi_class=multi_class, max_iter=15000, random_state=0)"
   ]
  },
  {
   "cell_type": "code",
   "execution_count": null,
   "metadata": {},
   "outputs": [],
   "source": [
    "model = model.fit(X_tr, y_tr, sample_weight=sample_weight)"
   ]
  },
  {
   "cell_type": "code",
   "execution_count": null,
   "metadata": {},
   "outputs": [],
   "source": [
    "y_preds = model.predict(X_ts)\n",
    "print(classification_report(y_ts, y_preds))\n",
    "print(balanced_accuracy_score(y_ts, y_preds))"
   ]
  },
  {
   "cell_type": "code",
   "execution_count": null,
   "metadata": {},
   "outputs": [],
   "source": [
    "y_preds = model.predict(X_tr)\n",
    "print(classification_report(y_tr, y_preds))\n",
    "print(balanced_accuracy_score(y_tr, y_preds))"
   ]
  },
  {
   "cell_type": "markdown",
   "metadata": {},
   "source": [
    "##### Train Random Forest classifier"
   ]
  },
  {
   "cell_type": "code",
   "execution_count": null,
   "metadata": {},
   "outputs": [],
   "source": [
    "model = RandomForestClassifier(n_estimators=400, random_state=0)"
   ]
  },
  {
   "cell_type": "code",
   "execution_count": null,
   "metadata": {},
   "outputs": [],
   "source": [
    "model = model.fit(X_tr, y_tr, sample_weight=sample_weight)"
   ]
  },
  {
   "cell_type": "code",
   "execution_count": null,
   "metadata": {},
   "outputs": [],
   "source": [
    "y_preds = model.predict(X_ts)\n",
    "print(classification_report(y_ts, y_preds))\n",
    "print(balanced_accuracy_score(y_ts, y_preds))"
   ]
  },
  {
   "cell_type": "code",
   "execution_count": null,
   "metadata": {},
   "outputs": [],
   "source": [
    "y_preds = model.predict(X_tr)\n",
    "print(classification_report(y_tr, y_preds))\n",
    "print(balanced_accuracy_score(y_tr, y_preds))"
   ]
  },
  {
   "cell_type": "markdown",
   "metadata": {},
   "source": [
    "## Repeat for 3rd conv layer"
   ]
  },
  {
   "cell_type": "code",
   "execution_count": 18,
   "metadata": {},
   "outputs": [],
   "source": [
    "discr_features_dirname = \"Discriminator_features\"\n",
    "training_input_path = os.path.join(data_dir, discr_features_dirname, \"SC09_training_discriminator_features_2th_conv.npy\")\n",
    "test_input_path = os.path.join(data_dir, discr_features_dirname, \"SC09_test_discriminator_features_2th_conv.npy\")"
   ]
  },
  {
   "cell_type": "markdown",
   "metadata": {},
   "source": [
    "#### Load data"
   ]
  },
  {
   "cell_type": "code",
   "execution_count": 19,
   "metadata": {},
   "outputs": [],
   "source": [
    "X_tr = np.load(training_input_path)"
   ]
  },
  {
   "cell_type": "code",
   "execution_count": 20,
   "metadata": {},
   "outputs": [],
   "source": [
    "X_ts = np.load(test_input_path)"
   ]
  },
  {
   "cell_type": "markdown",
   "metadata": {},
   "source": [
    "#### Global average pooling"
   ]
  },
  {
   "cell_type": "code",
   "execution_count": 21,
   "metadata": {},
   "outputs": [],
   "source": [
    "X_tr = global_average_pooling(X_tr)\n",
    "X_ts = global_average_pooling(X_ts)"
   ]
  },
  {
   "cell_type": "code",
   "execution_count": 22,
   "metadata": {},
   "outputs": [],
   "source": [
    "X_tr = X_tr.reshape((X_tr.shape[0], -1))\n",
    "X_ts = X_ts.reshape((X_ts.shape[0], -1))"
   ]
  },
  {
   "cell_type": "markdown",
   "metadata": {},
   "source": [
    "### Normalize data"
   ]
  },
  {
   "cell_type": "code",
   "execution_count": 24,
   "metadata": {},
   "outputs": [],
   "source": [
    "mean = X_tr.mean()\n",
    "std = X_tr.std()\n",
    "X_tr = (X_tr - mean) / std \n",
    "X_ts = (X_ts - mean) / std"
   ]
  },
  {
   "cell_type": "markdown",
   "metadata": {},
   "source": [
    "#### Train logistic regression classifier"
   ]
  },
  {
   "cell_type": "code",
   "execution_count": null,
   "metadata": {},
   "outputs": [],
   "source": [
    "multi_class = 'multinomial'\n",
    "model = LogisticRegression(multi_class=multi_class, max_iter=15000, random_state=0)"
   ]
  },
  {
   "cell_type": "code",
   "execution_count": null,
   "metadata": {},
   "outputs": [],
   "source": [
    "model = model.fit(X_tr, y_tr, sample_weight=sample_weight)"
   ]
  },
  {
   "cell_type": "code",
   "execution_count": null,
   "metadata": {
    "scrolled": true
   },
   "outputs": [],
   "source": [
    "y_preds = model.predict(X_ts)\n",
    "print(classification_report(y_ts, y_preds))\n",
    "print(balanced_accuracy_score(y_ts, y_preds))"
   ]
  },
  {
   "cell_type": "code",
   "execution_count": null,
   "metadata": {},
   "outputs": [],
   "source": [
    "y_preds = model.predict(X_tr)\n",
    "print(classification_report(y_tr, y_preds))\n",
    "print(balanced_accuracy_score(y_tr, y_preds))"
   ]
  },
  {
   "cell_type": "markdown",
   "metadata": {},
   "source": [
    "##### Train Random Forest classifier"
   ]
  },
  {
   "cell_type": "code",
   "execution_count": 25,
   "metadata": {},
   "outputs": [],
   "source": [
    "model = RandomForestClassifier(n_estimators=400, random_state=0)"
   ]
  },
  {
   "cell_type": "code",
   "execution_count": 29,
   "metadata": {},
   "outputs": [],
   "source": [
    "model = model.fit(X_tr, y_tr, sample_weight=sample_weight)"
   ]
  },
  {
   "cell_type": "code",
   "execution_count": 30,
   "metadata": {},
   "outputs": [
    {
     "name": "stdout",
     "output_type": "stream",
     "text": [
      "              precision    recall  f1-score   support\n",
      "\n",
      "           0       0.05      0.05      0.05       257\n",
      "           1       0.10      0.12      0.11       270\n",
      "           2       0.09      0.10      0.09       253\n",
      "           3       0.10      0.09      0.10       259\n",
      "           4       0.03      0.03      0.03       248\n",
      "           5       0.08      0.07      0.08       239\n",
      "           6       0.06      0.06      0.06       244\n",
      "           7       0.11      0.09      0.10       267\n",
      "           8       0.05      0.05      0.05       264\n",
      "           9       0.07      0.07      0.07       250\n",
      "\n",
      "    accuracy                           0.07      2551\n",
      "   macro avg       0.07      0.07      0.07      2551\n",
      "weighted avg       0.07      0.07      0.07      2551\n",
      "\n",
      "0.07285179439562806\n"
     ]
    }
   ],
   "source": [
    "y_preds = model.predict(X_ts)\n",
    "print(classification_report(y_ts, y_preds))\n",
    "print(balanced_accuracy_score(y_ts, y_preds))"
   ]
  },
  {
   "cell_type": "code",
   "execution_count": 31,
   "metadata": {},
   "outputs": [
    {
     "name": "stdout",
     "output_type": "stream",
     "text": [
      "              precision    recall  f1-score   support\n",
      "\n",
      "           0       1.00      1.00      1.00      2087\n",
      "           1       1.00      1.00      1.00      2082\n",
      "           2       1.00      1.00      1.00      2107\n",
      "           3       1.00      1.00      1.00      2097\n",
      "           4       1.00      1.00      1.00      2117\n",
      "           5       1.00      1.00      1.00      2131\n",
      "           6       1.00      1.00      1.00      2117\n",
      "           7       1.00      1.00      1.00      2081\n",
      "           8       1.00      1.00      1.00      2103\n",
      "           9       1.00      1.00      1.00      2122\n",
      "\n",
      "    accuracy                           1.00     21044\n",
      "   macro avg       1.00      1.00      1.00     21044\n",
      "weighted avg       1.00      1.00      1.00     21044\n",
      "\n",
      "1.0\n"
     ]
    }
   ],
   "source": [
    "y_preds = model.predict(X_tr)\n",
    "print(classification_report(y_tr, y_preds))\n",
    "print(balanced_accuracy_score(y_tr, y_preds))"
   ]
  }
 ],
 "metadata": {
  "kernelspec": {
   "display_name": "Python 3",
   "language": "python",
   "name": "python3"
  },
  "language_info": {
   "codemirror_mode": {
    "name": "ipython",
    "version": 3
   },
   "file_extension": ".py",
   "mimetype": "text/x-python",
   "name": "python",
   "nbconvert_exporter": "python",
   "pygments_lexer": "ipython3",
   "version": "3.7.4"
  }
 },
 "nbformat": 4,
 "nbformat_minor": 2
}
