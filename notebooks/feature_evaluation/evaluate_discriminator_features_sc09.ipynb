{
 "cells": [
  {
   "cell_type": "markdown",
   "metadata": {},
   "source": [
    "## The purpose of this notebook is to evaluate the discriminative capabilities of the representations learned by the TiFGAN's discriminator by performing keyword detection on the SC09 dataset\n",
    "\n",
    "* We train a Logistic Regression as well as a Random Forest classifier on top of those features and report our performance on the SC09 test set."
   ]
  },
  {
   "cell_type": "markdown",
   "metadata": {},
   "source": [
    "### Import packages"
   ]
  },
  {
   "cell_type": "code",
   "execution_count": 1,
   "metadata": {},
   "outputs": [],
   "source": [
    "import os\n",
    "os.chdir(os.path.join(\"/\", \"home\", \"c-matsty\", \"Bi-TiFGAN---TensorFlow-1.14\", \"src\"))\n",
    "\n",
    "import numpy as np\n",
    "from sklearn.linear_model import LogisticRegression\n",
    "from sklearn.ensemble import RandomForestClassifier\n",
    "from sklearn.metrics import confusion_matrix, classification_report, accuracy_score, balanced_accuracy_score, f1_score, precision_score, recall_score\n",
    "\n",
    "from feature_evaluation.utils import load_data, load_data_labels"
   ]
  },
  {
   "cell_type": "markdown",
   "metadata": {},
   "source": [
    "### Define paths"
   ]
  },
  {
   "cell_type": "code",
   "execution_count": 2,
   "metadata": {},
   "outputs": [],
   "source": [
    "data_dir = os.path.join(\"/media\", \"datastore\", \"c-matsty-data\", \"datasets\", \"SpeechCommands\")"
   ]
  },
  {
   "cell_type": "markdown",
   "metadata": {},
   "source": [
    "#### Discriminator features path"
   ]
  },
  {
   "cell_type": "code",
   "execution_count": 3,
   "metadata": {},
   "outputs": [],
   "source": [
    "discr_features_dirname = \"Discriminator_features\""
   ]
  },
  {
   "cell_type": "markdown",
   "metadata": {},
   "source": [
    "#### Label paths"
   ]
  },
  {
   "cell_type": "code",
   "execution_count": 4,
   "metadata": {},
   "outputs": [],
   "source": [
    "training_label_dir = os.path.join(data_dir, \"SpeechCommands_Preproc_2_training\", \"labels\")\n",
    "test_label_dir = os.path.join(data_dir, \"SpeechCommands_Preproc_2_test\", \"labels\")"
   ]
  },
  {
   "cell_type": "markdown",
   "metadata": {},
   "source": [
    "### Load data"
   ]
  },
  {
   "cell_type": "code",
   "execution_count": 5,
   "metadata": {},
   "outputs": [
    {
     "name": "stderr",
     "output_type": "stream",
     "text": [
      "100%|██████████| 165/165 [00:00<00:00, 4426.92it/s]\n",
      "100%|██████████| 20/20 [00:00<00:00, 3860.56it/s]\n"
     ]
    }
   ],
   "source": [
    "y_tr = load_data_labels(training_label_dir)\n",
    "y_ts = load_data_labels(test_label_dir)"
   ]
  },
  {
   "cell_type": "code",
   "execution_count": 6,
   "metadata": {},
   "outputs": [],
   "source": [
    "label_dict = {value: index  for index, value in enumerate(np.unique(y_tr))}"
   ]
  },
  {
   "cell_type": "markdown",
   "metadata": {},
   "source": [
    "### Prepare data for training"
   ]
  },
  {
   "cell_type": "markdown",
   "metadata": {},
   "source": [
    "#### Turn labels from strings to integer identifiers"
   ]
  },
  {
   "cell_type": "code",
   "execution_count": 7,
   "metadata": {},
   "outputs": [],
   "source": [
    "y_tr = np.vectorize(label_dict.get)(y_tr)\n",
    "y_ts = np.vectorize(label_dict.get)(y_ts)"
   ]
  },
  {
   "cell_type": "markdown",
   "metadata": {},
   "source": [
    "#### Reshape labels"
   ]
  },
  {
   "cell_type": "code",
   "execution_count": 8,
   "metadata": {},
   "outputs": [],
   "source": [
    "y_tr = y_tr.flatten()\n",
    "y_ts = y_ts.flatten()"
   ]
  },
  {
   "cell_type": "markdown",
   "metadata": {},
   "source": [
    "### Define sample weights"
   ]
  },
  {
   "cell_type": "code",
   "execution_count": 9,
   "metadata": {},
   "outputs": [],
   "source": [
    "class_counts = [len(y_tr[y_tr == i]) for i in label_dict.values()]\n",
    "class_weights = [max(class_counts)/class_count for class_count in class_counts]\n",
    "class_weight_dict = {class_idx: class_weight for class_idx, class_weight in zip(label_dict.values(), class_weights)}"
   ]
  },
  {
   "cell_type": "code",
   "execution_count": 10,
   "metadata": {},
   "outputs": [
    {
     "data": {
      "text/plain": [
       "{'eight': 0,\n",
       " 'five': 1,\n",
       " 'four': 2,\n",
       " 'nine': 3,\n",
       " 'one': 4,\n",
       " 'seven': 5,\n",
       " 'six': 6,\n",
       " 'three': 7,\n",
       " 'two': 8,\n",
       " 'zero': 9}"
      ]
     },
     "execution_count": 10,
     "metadata": {},
     "output_type": "execute_result"
    }
   ],
   "source": [
    "label_dict"
   ]
  },
  {
   "cell_type": "code",
   "execution_count": 11,
   "metadata": {},
   "outputs": [],
   "source": [
    "sample_weight = [class_weight_dict[label] for label in y_tr]"
   ]
  },
  {
   "cell_type": "markdown",
   "metadata": {},
   "source": [
    "## Train and test using 5th layer's features"
   ]
  },
  {
   "cell_type": "code",
   "execution_count": 12,
   "metadata": {},
   "outputs": [],
   "source": [
    "training_input_path = os.path.join(data_dir, discr_features_dirname, \"SC09_training_discriminator_features_4th_conv.npy\")\n",
    "test_input_path = os.path.join(data_dir, discr_features_dirname, \"SC09_test_discriminator_features_4th_conv.npy\")"
   ]
  },
  {
   "cell_type": "markdown",
   "metadata": {},
   "source": [
    "#### Load data"
   ]
  },
  {
   "cell_type": "code",
   "execution_count": 13,
   "metadata": {},
   "outputs": [],
   "source": [
    "X_tr = np.load(training_input_path)\n",
    "X_ts = np.load(test_input_path)"
   ]
  },
  {
   "cell_type": "code",
   "execution_count": 14,
   "metadata": {},
   "outputs": [],
   "source": [
    "X_tr = X_tr.reshape((X_tr.shape[0], -1))\n",
    "X_ts = X_ts.reshape((X_ts.shape[0], -1))"
   ]
  },
  {
   "cell_type": "markdown",
   "metadata": {},
   "source": [
    "#### Normalization"
   ]
  },
  {
   "cell_type": "code",
   "execution_count": 15,
   "metadata": {},
   "outputs": [],
   "source": [
    "mean = X_tr.mean()\n",
    "std = X_tr.std()\n",
    "X_tr = (X_tr - mean) / std \n",
    "X_ts = (X_ts - mean) / std"
   ]
  },
  {
   "cell_type": "markdown",
   "metadata": {},
   "source": [
    "#### Train logistic regression classifier"
   ]
  },
  {
   "cell_type": "code",
   "execution_count": 16,
   "metadata": {},
   "outputs": [],
   "source": [
    "multi_class = 'multinomial'\n",
    "model = LogisticRegression(multi_class=multi_class, max_iter=15000, random_state=0)"
   ]
  },
  {
   "cell_type": "code",
   "execution_count": null,
   "metadata": {},
   "outputs": [],
   "source": [
    "model = model.fit(X_tr, y_tr, sample_weight=sample_weight)"
   ]
  },
  {
   "cell_type": "code",
   "execution_count": null,
   "metadata": {},
   "outputs": [],
   "source": [
    "y_preds = model.predict(X_ts)\n",
    "class_report_5_lg = classification_report(y_ts, y_preds)"
   ]
  },
  {
   "cell_type": "code",
   "execution_count": 45,
   "metadata": {},
   "outputs": [
    {
     "name": "stdout",
     "output_type": "stream",
     "text": [
      "              precision    recall  f1-score   support\n",
      "\n",
      "           0       0.16      0.21      0.18       257\n",
      "           1       0.08      0.08      0.08       270\n",
      "           2       0.17      0.13      0.15       253\n",
      "           3       0.15      0.16      0.15       259\n",
      "           4       0.16      0.09      0.11       248\n",
      "           5       0.06      0.08      0.07       239\n",
      "           6       0.09      0.13      0.10       244\n",
      "           7       0.16      0.15      0.15       267\n",
      "           8       0.03      0.02      0.03       264\n",
      "           9       0.07      0.06      0.06       250\n",
      "\n",
      "    accuracy                           0.11      2551\n",
      "   macro avg       0.11      0.11      0.11      2551\n",
      "weighted avg       0.11      0.11      0.11      2551\n",
      "\n"
     ]
    }
   ],
   "source": [
    "print(class_report_5_lg)"
   ]
  },
  {
   "cell_type": "markdown",
   "metadata": {},
   "source": [
    "##### Train Random Forest classifier"
   ]
  },
  {
   "cell_type": "code",
   "execution_count": null,
   "metadata": {},
   "outputs": [],
   "source": [
    "model = RandomForestClassifier(n_estimators=400, random_state=0)"
   ]
  },
  {
   "cell_type": "code",
   "execution_count": null,
   "metadata": {},
   "outputs": [],
   "source": [
    "model = model.fit(X_tr, y_tr, sample_weight=sample_weight)"
   ]
  },
  {
   "cell_type": "code",
   "execution_count": null,
   "metadata": {},
   "outputs": [],
   "source": [
    "y_preds = model.predict(X_ts)\n",
    "class_report_5_rf = classification_report(y_ts, y_preds)"
   ]
  },
  {
   "cell_type": "code",
   "execution_count": 46,
   "metadata": {},
   "outputs": [
    {
     "name": "stdout",
     "output_type": "stream",
     "text": [
      "              precision    recall  f1-score   support\n",
      "\n",
      "           0       0.15      0.12      0.13       257\n",
      "           1       0.07      0.10      0.08       270\n",
      "           2       0.37      0.28      0.32       253\n",
      "           3       0.15      0.22      0.18       259\n",
      "           4       0.28      0.31      0.30       248\n",
      "           5       0.02      0.02      0.02       239\n",
      "           6       0.02      0.02      0.02       244\n",
      "           7       0.25      0.31      0.28       267\n",
      "           8       0.04      0.02      0.03       264\n",
      "           9       0.09      0.04      0.06       250\n",
      "\n",
      "    accuracy                           0.15      2551\n",
      "   macro avg       0.15      0.15      0.14      2551\n",
      "weighted avg       0.15      0.15      0.14      2551\n",
      "\n"
     ]
    }
   ],
   "source": [
    "print(class_report_5_rf)"
   ]
  },
  {
   "cell_type": "markdown",
   "metadata": {},
   "source": [
    "## Repeat for 4th conv layer"
   ]
  },
  {
   "cell_type": "code",
   "execution_count": null,
   "metadata": {},
   "outputs": [],
   "source": [
    "discr_features_dirname = \"Discriminator_features\"\n",
    "training_input_path = os.path.join(data_dir, discr_features_dirname, \"SC09_training_discriminator_features_3th_conv.npy\")\n",
    "test_input_path = os.path.join(data_dir, discr_features_dirname, \"SC09_test_discriminator_features_3th_conv.npy\")"
   ]
  },
  {
   "cell_type": "markdown",
   "metadata": {},
   "source": [
    "#### Load data"
   ]
  },
  {
   "cell_type": "code",
   "execution_count": null,
   "metadata": {},
   "outputs": [],
   "source": [
    "X_tr = np.load(training_input_path)"
   ]
  },
  {
   "cell_type": "code",
   "execution_count": null,
   "metadata": {},
   "outputs": [],
   "source": [
    "X_ts = np.load(test_input_path)"
   ]
  },
  {
   "cell_type": "code",
   "execution_count": null,
   "metadata": {},
   "outputs": [],
   "source": [
    "X_tr = X_tr.reshape((X_tr.shape[0], -1))\n",
    "X_ts = X_ts.reshape((X_ts.shape[0], -1))"
   ]
  },
  {
   "cell_type": "markdown",
   "metadata": {},
   "source": [
    "#### Normalization"
   ]
  },
  {
   "cell_type": "code",
   "execution_count": null,
   "metadata": {},
   "outputs": [],
   "source": [
    "mean = X_tr.mean()\n",
    "std = X_tr.std()\n",
    "X_tr = (X_tr - mean) / std \n",
    "X_ts = (X_ts - mean) / std"
   ]
  },
  {
   "cell_type": "markdown",
   "metadata": {},
   "source": [
    "### Normalize data"
   ]
  },
  {
   "cell_type": "code",
   "execution_count": null,
   "metadata": {},
   "outputs": [],
   "source": [
    "mean = X_tr.mean()\n",
    "std = X_tr.std()\n",
    "X_tr = (X_tr - mean) / std \n",
    "X_ts = (X_ts - mean) / std"
   ]
  },
  {
   "cell_type": "markdown",
   "metadata": {},
   "source": [
    "#### Train logistic regression classifier"
   ]
  },
  {
   "cell_type": "code",
   "execution_count": null,
   "metadata": {},
   "outputs": [],
   "source": [
    "multi_class = 'multinomial'\n",
    "model = LogisticRegression(multi_class=multi_class, max_iter=15000, random_state=0)"
   ]
  },
  {
   "cell_type": "code",
   "execution_count": null,
   "metadata": {},
   "outputs": [],
   "source": [
    "model = model.fit(X_tr, y_tr, sample_weight=sample_weight)"
   ]
  },
  {
   "cell_type": "code",
   "execution_count": null,
   "metadata": {},
   "outputs": [],
   "source": [
    "y_preds = model.predict(X_ts)\n",
    "class_report_4_lg = classification_report(y_ts, y_preds)"
   ]
  },
  {
   "cell_type": "code",
   "execution_count": 47,
   "metadata": {},
   "outputs": [
    {
     "name": "stdout",
     "output_type": "stream",
     "text": [
      "              precision    recall  f1-score   support\n",
      "\n",
      "           0       0.14      0.17      0.15       257\n",
      "           1       0.07      0.07      0.07       270\n",
      "           2       0.19      0.15      0.17       253\n",
      "           3       0.17      0.17      0.17       259\n",
      "           4       0.17      0.14      0.16       248\n",
      "           5       0.07      0.08      0.08       239\n",
      "           6       0.07      0.08      0.07       244\n",
      "           7       0.17      0.16      0.17       267\n",
      "           8       0.08      0.06      0.07       264\n",
      "           9       0.05      0.05      0.05       250\n",
      "\n",
      "    accuracy                           0.12      2551\n",
      "   macro avg       0.12      0.12      0.12      2551\n",
      "weighted avg       0.12      0.12      0.12      2551\n",
      "\n"
     ]
    }
   ],
   "source": [
    "print(class_report_4_lg)"
   ]
  },
  {
   "cell_type": "markdown",
   "metadata": {},
   "source": [
    "##### Train Random Forest classifier"
   ]
  },
  {
   "cell_type": "code",
   "execution_count": null,
   "metadata": {},
   "outputs": [],
   "source": [
    "model = RandomForestClassifier(n_estimators=400, random_state=0)"
   ]
  },
  {
   "cell_type": "code",
   "execution_count": null,
   "metadata": {},
   "outputs": [],
   "source": [
    "model = model.fit(X_tr, y_tr, sample_weight=sample_weight)"
   ]
  },
  {
   "cell_type": "code",
   "execution_count": null,
   "metadata": {},
   "outputs": [],
   "source": [
    "y_preds = model.predict(X_ts)\n",
    "class_report_4_rf = classification_report(y_ts, y_preds)"
   ]
  },
  {
   "cell_type": "code",
   "execution_count": 48,
   "metadata": {},
   "outputs": [
    {
     "name": "stdout",
     "output_type": "stream",
     "text": [
      "              precision    recall  f1-score   support\n",
      "\n",
      "           0       0.09      0.08      0.08       257\n",
      "           1       0.06      0.07      0.07       270\n",
      "           2       0.32      0.25      0.28       253\n",
      "           3       0.18      0.21      0.19       259\n",
      "           4       0.22      0.19      0.21       248\n",
      "           5       0.03      0.04      0.03       239\n",
      "           6       0.09      0.15      0.11       244\n",
      "           7       0.27      0.25      0.26       267\n",
      "           8       0.05      0.03      0.04       264\n",
      "           9       0.09      0.04      0.06       250\n",
      "\n",
      "    accuracy                           0.13      2551\n",
      "   macro avg       0.14      0.13      0.13      2551\n",
      "weighted avg       0.14      0.13      0.13      2551\n",
      "\n"
     ]
    }
   ],
   "source": [
    "print(class_report_4_rf)"
   ]
  },
  {
   "cell_type": "markdown",
   "metadata": {},
   "source": [
    "## Repeat for 3rd conv layer"
   ]
  },
  {
   "cell_type": "code",
   "execution_count": 50,
   "metadata": {},
   "outputs": [],
   "source": [
    "discr_features_dirname = \"Discriminator_features\"\n",
    "training_input_path = os.path.join(data_dir, discr_features_dirname, \"SC09_training_discriminator_features_2th_conv.npy\")\n",
    "test_input_path = os.path.join(data_dir, discr_features_dirname, \"SC09_test_discriminator_features_2th_conv.npy\")"
   ]
  },
  {
   "cell_type": "markdown",
   "metadata": {},
   "source": [
    "#### Load data"
   ]
  },
  {
   "cell_type": "code",
   "execution_count": 51,
   "metadata": {},
   "outputs": [],
   "source": [
    "X_tr = np.load(training_input_path)"
   ]
  },
  {
   "cell_type": "code",
   "execution_count": 52,
   "metadata": {},
   "outputs": [],
   "source": [
    "X_ts = np.load(test_input_path)"
   ]
  },
  {
   "cell_type": "code",
   "execution_count": 53,
   "metadata": {},
   "outputs": [],
   "source": [
    "X_tr = X_tr.reshape((X_tr.shape[0], -1))\n",
    "X_ts = X_ts.reshape((X_ts.shape[0], -1))"
   ]
  },
  {
   "cell_type": "markdown",
   "metadata": {},
   "source": [
    "### Normalize data"
   ]
  },
  {
   "cell_type": "code",
   "execution_count": 54,
   "metadata": {},
   "outputs": [],
   "source": [
    "mean = X_tr.mean()\n",
    "std = X_tr.std()\n",
    "X_tr = (X_tr - mean) / std \n",
    "X_ts = (X_ts - mean) / std"
   ]
  },
  {
   "cell_type": "markdown",
   "metadata": {},
   "source": [
    "#### Train logistic regression classifier"
   ]
  },
  {
   "cell_type": "code",
   "execution_count": 55,
   "metadata": {},
   "outputs": [],
   "source": [
    "multi_class = 'multinomial'\n",
    "model = LogisticRegression(multi_class=multi_class, max_iter=15000, random_state=0)"
   ]
  },
  {
   "cell_type": "code",
   "execution_count": null,
   "metadata": {},
   "outputs": [],
   "source": [
    "model = model.fit(X_tr, y_tr, sample_weight=sample_weight)"
   ]
  },
  {
   "cell_type": "code",
   "execution_count": null,
   "metadata": {
    "scrolled": true
   },
   "outputs": [],
   "source": [
    "y_preds = model.predict(X_ts)\n",
    "class_report_3_lg = classification_report(y_ts, y_preds)"
   ]
  },
  {
   "cell_type": "code",
   "execution_count": 88,
   "metadata": {},
   "outputs": [
    {
     "name": "stdout",
     "output_type": "stream",
     "text": [
      "              precision    recall  f1-score   support\n",
      "\n",
      "           0       0.14      0.16      0.15       257\n",
      "           1       0.06      0.06      0.06       270\n",
      "           2       0.16      0.15      0.16       253\n",
      "           3       0.14      0.14      0.14       259\n",
      "           4       0.13      0.11      0.12       248\n",
      "           5       0.07      0.08      0.07       239\n",
      "           6       0.07      0.07      0.07       244\n",
      "           7       0.16      0.15      0.15       267\n",
      "           8       0.08      0.08      0.08       264\n",
      "           9       0.07      0.07      0.07       250\n",
      "\n",
      "    accuracy                           0.11      2551\n",
      "   macro avg       0.11      0.11      0.11      2551\n",
      "weighted avg       0.11      0.11      0.11      2551\n",
      "\n"
     ]
    }
   ],
   "source": [
    "print(class_report_3_lg)"
   ]
  },
  {
   "cell_type": "markdown",
   "metadata": {},
   "source": [
    "##### Train Random Forest classifier"
   ]
  },
  {
   "cell_type": "code",
   "execution_count": null,
   "metadata": {},
   "outputs": [],
   "source": [
    "model = RandomForestClassifier(n_estimators=400, random_state=0)"
   ]
  },
  {
   "cell_type": "code",
   "execution_count": null,
   "metadata": {},
   "outputs": [],
   "source": [
    "model = model.fit(X_tr, y_tr, sample_weight=sample_weight)"
   ]
  },
  {
   "cell_type": "code",
   "execution_count": null,
   "metadata": {},
   "outputs": [],
   "source": [
    "y_preds = model.predict(X_ts)\n",
    "class_report_3_rf = classification_report(y_ts, y_preds)"
   ]
  },
  {
   "cell_type": "code",
   "execution_count": 89,
   "metadata": {},
   "outputs": [
    {
     "name": "stdout",
     "output_type": "stream",
     "text": [
      "              precision    recall  f1-score   support\n",
      "\n",
      "           0       0.10      0.12      0.11       257\n",
      "           1       0.07      0.06      0.06       270\n",
      "           2       0.34      0.25      0.29       253\n",
      "           3       0.15      0.12      0.13       259\n",
      "           4       0.23      0.16      0.19       248\n",
      "           5       0.01      0.01      0.01       239\n",
      "           6       0.12      0.34      0.18       244\n",
      "           7       0.27      0.21      0.24       267\n",
      "           8       0.14      0.08      0.10       264\n",
      "           9       0.07      0.04      0.05       250\n",
      "\n",
      "    accuracy                           0.14      2551\n",
      "   macro avg       0.15      0.14      0.13      2551\n",
      "weighted avg       0.15      0.14      0.13      2551\n",
      "\n"
     ]
    }
   ],
   "source": [
    "print(class_report_3_rf)"
   ]
  },
  {
   "cell_type": "code",
   "execution_count": null,
   "metadata": {},
   "outputs": [],
   "source": [
    "y_preds = model.predict(X_tr)\n",
    "class_report_3_rf_tr = classification_report(y_tr, y_preds)"
   ]
  },
  {
   "cell_type": "code",
   "execution_count": null,
   "metadata": {},
   "outputs": [],
   "source": [
    "print(class_report_3_rf_tr)"
   ]
  },
  {
   "cell_type": "markdown",
   "metadata": {},
   "source": [
    "## Repeat for 2nd conv layer"
   ]
  },
  {
   "cell_type": "code",
   "execution_count": null,
   "metadata": {},
   "outputs": [],
   "source": [
    "discr_features_dirname = \"Discriminator_features\"\n",
    "training_input_path = os.path.join(data_dir, discr_features_dirname, \"SC09_training_discriminator_features_1th_conv.npy\")\n",
    "test_input_path = os.path.join(data_dir, discr_features_dirname, \"SC09_test_discriminator_features_1th_conv.npy\")"
   ]
  },
  {
   "cell_type": "markdown",
   "metadata": {},
   "source": [
    "#### Load data"
   ]
  },
  {
   "cell_type": "code",
   "execution_count": null,
   "metadata": {},
   "outputs": [],
   "source": [
    "X_tr = np.load(training_input_path)"
   ]
  },
  {
   "cell_type": "code",
   "execution_count": null,
   "metadata": {},
   "outputs": [],
   "source": [
    "X_ts = np.load(test_input_path)"
   ]
  },
  {
   "cell_type": "code",
   "execution_count": null,
   "metadata": {},
   "outputs": [],
   "source": [
    "X_tr = X_tr.reshape((X_tr.shape[0], -1))\n",
    "X_ts = X_ts.reshape((X_ts.shape[0], -1))"
   ]
  },
  {
   "cell_type": "markdown",
   "metadata": {},
   "source": [
    "### Normalize data"
   ]
  },
  {
   "cell_type": "code",
   "execution_count": null,
   "metadata": {},
   "outputs": [],
   "source": [
    "mean = X_tr.mean()\n",
    "std = X_tr.std()\n",
    "X_tr = (X_tr - mean) / std \n",
    "X_ts = (X_ts - mean) / std"
   ]
  },
  {
   "cell_type": "markdown",
   "metadata": {},
   "source": [
    "#### Train logistic regression classifier"
   ]
  },
  {
   "cell_type": "code",
   "execution_count": null,
   "metadata": {},
   "outputs": [],
   "source": [
    "multi_class = 'multinomial'\n",
    "model = LogisticRegression(multi_class=multi_class, max_iter=15000, random_state=0)"
   ]
  },
  {
   "cell_type": "code",
   "execution_count": null,
   "metadata": {},
   "outputs": [],
   "source": [
    "model = model.fit(X_tr, y_tr, sample_weight=sample_weight)"
   ]
  },
  {
   "cell_type": "code",
   "execution_count": null,
   "metadata": {
    "scrolled": true
   },
   "outputs": [],
   "source": [
    "y_preds = model.predict(X_ts)\n",
    "class_report_2_lg = classification_report(y_ts, y_preds)"
   ]
  },
  {
   "cell_type": "code",
   "execution_count": 90,
   "metadata": {},
   "outputs": [
    {
     "name": "stdout",
     "output_type": "stream",
     "text": [
      "              precision    recall  f1-score   support\n",
      "\n",
      "           0       0.16      0.16      0.16       257\n",
      "           1       0.09      0.09      0.09       270\n",
      "           2       0.22      0.23      0.22       253\n",
      "           3       0.12      0.11      0.12       259\n",
      "           4       0.15      0.17      0.16       248\n",
      "           5       0.07      0.08      0.08       239\n",
      "           6       0.10      0.10      0.10       244\n",
      "           7       0.16      0.15      0.15       267\n",
      "           8       0.08      0.08      0.08       264\n",
      "           9       0.08      0.07      0.08       250\n",
      "\n",
      "    accuracy                           0.12      2551\n",
      "   macro avg       0.12      0.12      0.12      2551\n",
      "weighted avg       0.12      0.12      0.12      2551\n",
      "\n"
     ]
    }
   ],
   "source": [
    "print(class_report_2_lg)"
   ]
  },
  {
   "cell_type": "code",
   "execution_count": null,
   "metadata": {},
   "outputs": [],
   "source": [
    "y_preds = model.predict(X_tr)\n",
    "class_report_2_lg_tr = classification_report(y_tr, y_preds)"
   ]
  },
  {
   "cell_type": "code",
   "execution_count": null,
   "metadata": {},
   "outputs": [],
   "source": [
    "print(class_report_2_lg_tr)\n",
    "print(balanced_accuracy_score(y_tr, y_preds))"
   ]
  },
  {
   "cell_type": "markdown",
   "metadata": {},
   "source": [
    "##### Train Random Forest classifier"
   ]
  },
  {
   "cell_type": "code",
   "execution_count": null,
   "metadata": {},
   "outputs": [],
   "source": [
    "model = RandomForestClassifier(n_estimators=400, random_state=0)"
   ]
  },
  {
   "cell_type": "code",
   "execution_count": null,
   "metadata": {},
   "outputs": [],
   "source": [
    "model = model.fit(X_tr, y_tr, sample_weight=sample_weight)"
   ]
  },
  {
   "cell_type": "code",
   "execution_count": null,
   "metadata": {},
   "outputs": [],
   "source": [
    "y_preds = model.predict(X_ts)\n",
    "class_report_2_rf = classification_report(y_ts, y_preds)"
   ]
  },
  {
   "cell_type": "code",
   "execution_count": 91,
   "metadata": {},
   "outputs": [
    {
     "name": "stdout",
     "output_type": "stream",
     "text": [
      "              precision    recall  f1-score   support\n",
      "\n",
      "           0       0.03      0.04      0.04       257\n",
      "           1       0.06      0.04      0.05       270\n",
      "           2       0.30      0.19      0.23       253\n",
      "           3       0.16      0.08      0.11       259\n",
      "           4       0.12      0.09      0.10       248\n",
      "           5       0.06      0.02      0.03       239\n",
      "           6       0.12      0.60      0.20       244\n",
      "           7       0.21      0.07      0.11       267\n",
      "           8       0.08      0.03      0.05       264\n",
      "           9       0.05      0.02      0.02       250\n",
      "\n",
      "    accuracy                           0.12      2551\n",
      "   macro avg       0.12      0.12      0.09      2551\n",
      "weighted avg       0.12      0.12      0.09      2551\n",
      "\n"
     ]
    }
   ],
   "source": [
    "print(class_report_2_rf)"
   ]
  },
  {
   "cell_type": "code",
   "execution_count": null,
   "metadata": {},
   "outputs": [],
   "source": [
    "y_preds = model.predict(X_tr)\n",
    "class_report_2_rf_tr = classification_report(y_tr, y_preds)"
   ]
  },
  {
   "cell_type": "code",
   "execution_count": 87,
   "metadata": {},
   "outputs": [
    {
     "name": "stdout",
     "output_type": "stream",
     "text": [
      "              precision    recall  f1-score   support\n",
      "\n",
      "           0       1.00      1.00      1.00      2087\n",
      "           1       1.00      1.00      1.00      2082\n",
      "           2       1.00      1.00      1.00      2107\n",
      "           3       1.00      1.00      1.00      2097\n",
      "           4       1.00      1.00      1.00      2117\n",
      "           5       1.00      1.00      1.00      2131\n",
      "           6       1.00      1.00      1.00      2117\n",
      "           7       1.00      1.00      1.00      2081\n",
      "           8       1.00      1.00      1.00      2103\n",
      "           9       1.00      1.00      1.00      2122\n",
      "\n",
      "    accuracy                           1.00     21044\n",
      "   macro avg       1.00      1.00      1.00     21044\n",
      "weighted avg       1.00      1.00      1.00     21044\n",
      "\n",
      "1.0\n"
     ]
    }
   ],
   "source": [
    "print(class_report_2_rf_tr)\n",
    "print(balanced_accuracy_score(y_tr, y_preds))"
   ]
  },
  {
   "cell_type": "markdown",
   "metadata": {},
   "source": [
    "## Repeat for 1st conv layer but without pooling"
   ]
  },
  {
   "cell_type": "code",
   "execution_count": 97,
   "metadata": {},
   "outputs": [],
   "source": [
    "discr_features_dirname = \"Discriminator_features\"\n",
    "test_input_path = os.path.join(data_dir, discr_features_dirname, \"unpooled_1st_ts.npy.npy\")"
   ]
  },
  {
   "cell_type": "markdown",
   "metadata": {},
   "source": [
    "#### Load data"
   ]
  },
  {
   "cell_type": "code",
   "execution_count": null,
   "metadata": {},
   "outputs": [],
   "source": [
    "tr_input_file_pattern = \"unpooled_1st_tr\"\n",
    "X_tr = []\n",
    "for file_name in os.listdir(os.path.join(data_dir, discr_features_dirname)):\n",
    "    if tr_input_file_pattern not in file_name:\n",
    "        continue\n",
    "    training_input_path = os.path.join(data_dir, discr_features_dirname, file_name)\n",
    "    X_tr.append(np.load(training_input_path))\n",
    "X_tr = np.vstack(X_tr)"
   ]
  },
  {
   "cell_type": "code",
   "execution_count": null,
   "metadata": {},
   "outputs": [],
   "source": [
    "X_ts = np.load(test_input_path)"
   ]
  },
  {
   "cell_type": "code",
   "execution_count": null,
   "metadata": {},
   "outputs": [],
   "source": [
    "X_tr = X_tr.reshape((X_tr.shape[0], -1))\n",
    "X_ts = X_ts.reshape((X_ts.shape[0], -1))"
   ]
  },
  {
   "cell_type": "markdown",
   "metadata": {},
   "source": [
    "### Normalize data"
   ]
  },
  {
   "cell_type": "code",
   "execution_count": null,
   "metadata": {},
   "outputs": [],
   "source": [
    "mean = X_tr.mean()\n",
    "std = X_tr.std()\n",
    "X_tr = (X_tr - mean) / std \n",
    "X_ts = (X_ts - mean) / std"
   ]
  },
  {
   "cell_type": "markdown",
   "metadata": {},
   "source": [
    "#### Train logistic regression classifier"
   ]
  },
  {
   "cell_type": "code",
   "execution_count": null,
   "metadata": {},
   "outputs": [],
   "source": [
    "multi_class = 'multinomial'\n",
    "model = LogisticRegression(multi_class=multi_class, max_iter=15000, random_state=0)"
   ]
  },
  {
   "cell_type": "code",
   "execution_count": null,
   "metadata": {},
   "outputs": [],
   "source": [
    "model = model.fit(X_tr, y_tr, sample_weight=sample_weight)"
   ]
  },
  {
   "cell_type": "code",
   "execution_count": null,
   "metadata": {
    "scrolled": true
   },
   "outputs": [],
   "source": [
    "y_preds = model.predict(X_ts)\n",
    "class_report_1_lg = classification_report(y_ts, y_preds)"
   ]
  },
  {
   "cell_type": "code",
   "execution_count": null,
   "metadata": {},
   "outputs": [],
   "source": [
    "print(class_report_1_lg)"
   ]
  },
  {
   "cell_type": "code",
   "execution_count": null,
   "metadata": {},
   "outputs": [],
   "source": [
    "y_preds = model.predict(X_tr)\n",
    "class_report_1_lg_tr = classification_report(y_tr, y_preds)"
   ]
  },
  {
   "cell_type": "code",
   "execution_count": null,
   "metadata": {},
   "outputs": [],
   "source": [
    "print(class_report_1_lg_tr)"
   ]
  },
  {
   "cell_type": "markdown",
   "metadata": {},
   "source": [
    "##### Train Random Forest classifier"
   ]
  },
  {
   "cell_type": "code",
   "execution_count": null,
   "metadata": {},
   "outputs": [],
   "source": [
    "model = RandomForestClassifier(n_estimators=400, random_state=0)"
   ]
  },
  {
   "cell_type": "code",
   "execution_count": null,
   "metadata": {},
   "outputs": [],
   "source": [
    "model = model.fit(X_tr, y_tr, sample_weight=sample_weight)"
   ]
  },
  {
   "cell_type": "code",
   "execution_count": null,
   "metadata": {},
   "outputs": [],
   "source": [
    "y_preds = model.predict(X_ts)\n",
    "class_report_1_rf = classification_report(y_ts, y_preds)"
   ]
  },
  {
   "cell_type": "code",
   "execution_count": null,
   "metadata": {},
   "outputs": [],
   "source": [
    "print(class_report_1_rf)"
   ]
  },
  {
   "cell_type": "code",
   "execution_count": null,
   "metadata": {},
   "outputs": [],
   "source": [
    "y_preds = model.predict(X_tr)\n",
    "class_report_1_rf_tr = classification_report(y_tr, y_preds)"
   ]
  },
  {
   "cell_type": "code",
   "execution_count": null,
   "metadata": {},
   "outputs": [],
   "source": [
    "print(class_report_1_rf_tr)\n",
    "print(balanced_accuracy_score(y_tr, y_preds))"
   ]
  },
  {
   "cell_type": "markdown",
   "metadata": {},
   "source": [
    "## Repeat for 1st conv layer"
   ]
  },
  {
   "cell_type": "code",
   "execution_count": null,
   "metadata": {},
   "outputs": [],
   "source": [
    "discr_features_dirname = \"Discriminator_features\"\n",
    "training_input_path = os.path.join(data_dir, discr_features_dirname, \"SC09_training_discriminator_features_0th_conv.npy\")\n",
    "test_input_path = os.path.join(data_dir, discr_features_dirname, \"SC09_test_discriminator_features_0th_conv.npy\")"
   ]
  },
  {
   "cell_type": "markdown",
   "metadata": {},
   "source": [
    "#### Load data"
   ]
  },
  {
   "cell_type": "code",
   "execution_count": null,
   "metadata": {},
   "outputs": [],
   "source": [
    "X_tr = np.load(training_input_path)"
   ]
  },
  {
   "cell_type": "code",
   "execution_count": null,
   "metadata": {},
   "outputs": [],
   "source": [
    "X_ts = np.load(test_input_path)"
   ]
  },
  {
   "cell_type": "code",
   "execution_count": null,
   "metadata": {},
   "outputs": [],
   "source": [
    "X_tr = X_tr.reshape((X_tr.shape[0], -1))\n",
    "X_ts = X_ts.reshape((X_ts.shape[0], -1))"
   ]
  },
  {
   "cell_type": "markdown",
   "metadata": {},
   "source": [
    "### Normalize data"
   ]
  },
  {
   "cell_type": "code",
   "execution_count": null,
   "metadata": {},
   "outputs": [],
   "source": [
    "mean = X_tr.mean()\n",
    "std = X_tr.std()\n",
    "X_tr = (X_tr - mean) / std \n",
    "X_ts = (X_ts - mean) / std"
   ]
  },
  {
   "cell_type": "markdown",
   "metadata": {},
   "source": [
    "#### Train logistic regression classifier"
   ]
  },
  {
   "cell_type": "code",
   "execution_count": null,
   "metadata": {},
   "outputs": [],
   "source": [
    "multi_class = 'multinomial'\n",
    "model = LogisticRegression(multi_class=multi_class, max_iter=15000, random_state=0)"
   ]
  },
  {
   "cell_type": "code",
   "execution_count": null,
   "metadata": {},
   "outputs": [],
   "source": [
    "model = model.fit(X_tr, y_tr, sample_weight=sample_weight)"
   ]
  },
  {
   "cell_type": "code",
   "execution_count": null,
   "metadata": {
    "scrolled": true
   },
   "outputs": [],
   "source": [
    "y_preds = model.predict(X_ts)\n",
    "class_report_1_lg = classification_report(y_ts, y_preds)"
   ]
  },
  {
   "cell_type": "code",
   "execution_count": null,
   "metadata": {},
   "outputs": [],
   "source": [
    "print(class_report_1_lg)"
   ]
  },
  {
   "cell_type": "code",
   "execution_count": null,
   "metadata": {},
   "outputs": [],
   "source": [
    "y_preds = model.predict(X_tr)\n",
    "class_report_1_lg_tr = classification_report(y_tr, y_preds)"
   ]
  },
  {
   "cell_type": "code",
   "execution_count": null,
   "metadata": {},
   "outputs": [],
   "source": [
    "print(class_report_1_lg_tr)"
   ]
  },
  {
   "cell_type": "markdown",
   "metadata": {},
   "source": [
    "##### Train Random Forest classifier"
   ]
  },
  {
   "cell_type": "code",
   "execution_count": null,
   "metadata": {},
   "outputs": [],
   "source": [
    "model = RandomForestClassifier(n_estimators=400, random_state=0)"
   ]
  },
  {
   "cell_type": "code",
   "execution_count": null,
   "metadata": {},
   "outputs": [],
   "source": [
    "model = model.fit(X_tr, y_tr, sample_weight=sample_weight)"
   ]
  },
  {
   "cell_type": "code",
   "execution_count": null,
   "metadata": {},
   "outputs": [],
   "source": [
    "y_preds = model.predict(X_ts)\n",
    "class_report_1_rf = classification_report(y_ts, y_preds)"
   ]
  },
  {
   "cell_type": "code",
   "execution_count": null,
   "metadata": {},
   "outputs": [],
   "source": [
    "print(class_report_1_rf)"
   ]
  },
  {
   "cell_type": "code",
   "execution_count": null,
   "metadata": {},
   "outputs": [],
   "source": [
    "y_preds = model.predict(X_tr)\n",
    "class_report_1_rf_tr = classification_report(y_tr, y_preds)"
   ]
  },
  {
   "cell_type": "code",
   "execution_count": null,
   "metadata": {},
   "outputs": [],
   "source": [
    "print(class_report_1_rf_tr)\n",
    "print(balanced_accuracy_score(y_tr, y_preds))"
   ]
  },
  {
   "cell_type": "code",
   "execution_count": null,
   "metadata": {},
   "outputs": [],
   "source": []
  }
 ],
 "metadata": {
  "kernelspec": {
   "display_name": "Python 3",
   "language": "python",
   "name": "python3"
  },
  "language_info": {
   "codemirror_mode": {
    "name": "ipython",
    "version": 3
   },
   "file_extension": ".py",
   "mimetype": "text/x-python",
   "name": "python",
   "nbconvert_exporter": "python",
   "pygments_lexer": "ipython3",
   "version": "3.7.4"
  }
 },
 "nbformat": 4,
 "nbformat_minor": 2
}
